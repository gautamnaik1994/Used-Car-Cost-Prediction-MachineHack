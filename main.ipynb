{
 "cells": [
  {
   "cell_type": "code",
   "execution_count": 181,
   "metadata": {},
   "outputs": [],
   "source": [
    "import pandas as pd\n",
    "import numpy as np\n",
    "import matplotlib.pyplot as plt\n",
    "import seaborn as sns\n",
    "from sklearn.preprocessing import LabelEncoder, OneHotEncoder\n",
    "%matplotlib inline"
   ]
  },
  {
   "cell_type": "code",
   "execution_count": 182,
   "metadata": {},
   "outputs": [],
   "source": [
    "from IPython.core.pylabtools import figsize\n",
    "#figsize(15,20)\n",
    "from IPython.core.interactiveshell import InteractiveShell\n",
    "InteractiveShell.ast_node_interactivity = \"all\""
   ]
  },
  {
   "cell_type": "code",
   "execution_count": 183,
   "metadata": {},
   "outputs": [],
   "source": [
    "# https://www.dataquest.io/blog/jupyter-notebook-tips-tricks-shortcuts/\n",
    "# https://towardsdatascience.com/jypyter-notebook-shortcuts-bf0101a98330\n",
    "# %%time\n",
    "df_train=pd.read_excel('./dataset/Data_Train.xlsx')\n",
    "df_test=pd.read_excel('./dataset/Data_Test.xlsx')"
   ]
  },
  {
   "cell_type": "code",
   "execution_count": 184,
   "metadata": {},
   "outputs": [],
   "source": [
    "df_train_orig = df_train.copy()\n",
    "df_test_orig = df_test.copy()"
   ]
  },
  {
   "cell_type": "code",
   "execution_count": 185,
   "metadata": {},
   "outputs": [
    {
     "data": {
      "text/html": [
       "<div>\n",
       "<style scoped>\n",
       "    .dataframe tbody tr th:only-of-type {\n",
       "        vertical-align: middle;\n",
       "    }\n",
       "\n",
       "    .dataframe tbody tr th {\n",
       "        vertical-align: top;\n",
       "    }\n",
       "\n",
       "    .dataframe thead th {\n",
       "        text-align: right;\n",
       "    }\n",
       "</style>\n",
       "<table border=\"1\" class=\"dataframe\">\n",
       "  <thead>\n",
       "    <tr style=\"text-align: right;\">\n",
       "      <th></th>\n",
       "      <th>Name</th>\n",
       "      <th>Location</th>\n",
       "      <th>Year</th>\n",
       "      <th>Kilometers_Driven</th>\n",
       "      <th>Fuel_Type</th>\n",
       "      <th>Transmission</th>\n",
       "      <th>Owner_Type</th>\n",
       "      <th>Mileage</th>\n",
       "      <th>Engine</th>\n",
       "      <th>Power</th>\n",
       "      <th>Seats</th>\n",
       "      <th>New_Price</th>\n",
       "      <th>Price</th>\n",
       "    </tr>\n",
       "  </thead>\n",
       "  <tbody>\n",
       "    <tr>\n",
       "      <th>0</th>\n",
       "      <td>Maruti Wagon R LXI CNG</td>\n",
       "      <td>Mumbai</td>\n",
       "      <td>2010</td>\n",
       "      <td>72000</td>\n",
       "      <td>CNG</td>\n",
       "      <td>Manual</td>\n",
       "      <td>First</td>\n",
       "      <td>26.6 km/kg</td>\n",
       "      <td>998 CC</td>\n",
       "      <td>58.16 bhp</td>\n",
       "      <td>5.0</td>\n",
       "      <td>NaN</td>\n",
       "      <td>1.75</td>\n",
       "    </tr>\n",
       "    <tr>\n",
       "      <th>1</th>\n",
       "      <td>Hyundai Creta 1.6 CRDi SX Option</td>\n",
       "      <td>Pune</td>\n",
       "      <td>2015</td>\n",
       "      <td>41000</td>\n",
       "      <td>Diesel</td>\n",
       "      <td>Manual</td>\n",
       "      <td>First</td>\n",
       "      <td>19.67 kmpl</td>\n",
       "      <td>1582 CC</td>\n",
       "      <td>126.2 bhp</td>\n",
       "      <td>5.0</td>\n",
       "      <td>NaN</td>\n",
       "      <td>12.50</td>\n",
       "    </tr>\n",
       "    <tr>\n",
       "      <th>2</th>\n",
       "      <td>Honda Jazz V</td>\n",
       "      <td>Chennai</td>\n",
       "      <td>2011</td>\n",
       "      <td>46000</td>\n",
       "      <td>Petrol</td>\n",
       "      <td>Manual</td>\n",
       "      <td>First</td>\n",
       "      <td>18.2 kmpl</td>\n",
       "      <td>1199 CC</td>\n",
       "      <td>88.7 bhp</td>\n",
       "      <td>5.0</td>\n",
       "      <td>8.61 Lakh</td>\n",
       "      <td>4.50</td>\n",
       "    </tr>\n",
       "    <tr>\n",
       "      <th>3</th>\n",
       "      <td>Maruti Ertiga VDI</td>\n",
       "      <td>Chennai</td>\n",
       "      <td>2012</td>\n",
       "      <td>87000</td>\n",
       "      <td>Diesel</td>\n",
       "      <td>Manual</td>\n",
       "      <td>First</td>\n",
       "      <td>20.77 kmpl</td>\n",
       "      <td>1248 CC</td>\n",
       "      <td>88.76 bhp</td>\n",
       "      <td>7.0</td>\n",
       "      <td>NaN</td>\n",
       "      <td>6.00</td>\n",
       "    </tr>\n",
       "    <tr>\n",
       "      <th>4</th>\n",
       "      <td>Audi A4 New 2.0 TDI Multitronic</td>\n",
       "      <td>Coimbatore</td>\n",
       "      <td>2013</td>\n",
       "      <td>40670</td>\n",
       "      <td>Diesel</td>\n",
       "      <td>Automatic</td>\n",
       "      <td>Second</td>\n",
       "      <td>15.2 kmpl</td>\n",
       "      <td>1968 CC</td>\n",
       "      <td>140.8 bhp</td>\n",
       "      <td>5.0</td>\n",
       "      <td>NaN</td>\n",
       "      <td>17.74</td>\n",
       "    </tr>\n",
       "  </tbody>\n",
       "</table>\n",
       "</div>"
      ],
      "text/plain": [
       "                               Name    Location  Year  Kilometers_Driven  \\\n",
       "0            Maruti Wagon R LXI CNG      Mumbai  2010              72000   \n",
       "1  Hyundai Creta 1.6 CRDi SX Option        Pune  2015              41000   \n",
       "2                      Honda Jazz V     Chennai  2011              46000   \n",
       "3                 Maruti Ertiga VDI     Chennai  2012              87000   \n",
       "4   Audi A4 New 2.0 TDI Multitronic  Coimbatore  2013              40670   \n",
       "\n",
       "  Fuel_Type Transmission Owner_Type     Mileage   Engine      Power  Seats  \\\n",
       "0       CNG       Manual      First  26.6 km/kg   998 CC  58.16 bhp    5.0   \n",
       "1    Diesel       Manual      First  19.67 kmpl  1582 CC  126.2 bhp    5.0   \n",
       "2    Petrol       Manual      First   18.2 kmpl  1199 CC   88.7 bhp    5.0   \n",
       "3    Diesel       Manual      First  20.77 kmpl  1248 CC  88.76 bhp    7.0   \n",
       "4    Diesel    Automatic     Second   15.2 kmpl  1968 CC  140.8 bhp    5.0   \n",
       "\n",
       "   New_Price  Price  \n",
       "0        NaN   1.75  \n",
       "1        NaN  12.50  \n",
       "2  8.61 Lakh   4.50  \n",
       "3        NaN   6.00  \n",
       "4        NaN  17.74  "
      ]
     },
     "execution_count": 185,
     "metadata": {},
     "output_type": "execute_result"
    },
    {
     "data": {
      "text/html": [
       "<div>\n",
       "<style scoped>\n",
       "    .dataframe tbody tr th:only-of-type {\n",
       "        vertical-align: middle;\n",
       "    }\n",
       "\n",
       "    .dataframe tbody tr th {\n",
       "        vertical-align: top;\n",
       "    }\n",
       "\n",
       "    .dataframe thead th {\n",
       "        text-align: right;\n",
       "    }\n",
       "</style>\n",
       "<table border=\"1\" class=\"dataframe\">\n",
       "  <thead>\n",
       "    <tr style=\"text-align: right;\">\n",
       "      <th></th>\n",
       "      <th>Name</th>\n",
       "      <th>Location</th>\n",
       "      <th>Year</th>\n",
       "      <th>Kilometers_Driven</th>\n",
       "      <th>Fuel_Type</th>\n",
       "      <th>Transmission</th>\n",
       "      <th>Owner_Type</th>\n",
       "      <th>Mileage</th>\n",
       "      <th>Engine</th>\n",
       "      <th>Power</th>\n",
       "      <th>Seats</th>\n",
       "      <th>New_Price</th>\n",
       "    </tr>\n",
       "  </thead>\n",
       "  <tbody>\n",
       "    <tr>\n",
       "      <th>0</th>\n",
       "      <td>Maruti Alto K10 LXI CNG</td>\n",
       "      <td>Delhi</td>\n",
       "      <td>2014</td>\n",
       "      <td>40929</td>\n",
       "      <td>CNG</td>\n",
       "      <td>Manual</td>\n",
       "      <td>First</td>\n",
       "      <td>32.26 km/kg</td>\n",
       "      <td>998 CC</td>\n",
       "      <td>58.2 bhp</td>\n",
       "      <td>4.0</td>\n",
       "      <td>NaN</td>\n",
       "    </tr>\n",
       "    <tr>\n",
       "      <th>1</th>\n",
       "      <td>Maruti Alto 800 2016-2019 LXI</td>\n",
       "      <td>Coimbatore</td>\n",
       "      <td>2013</td>\n",
       "      <td>54493</td>\n",
       "      <td>Petrol</td>\n",
       "      <td>Manual</td>\n",
       "      <td>Second</td>\n",
       "      <td>24.7 kmpl</td>\n",
       "      <td>796 CC</td>\n",
       "      <td>47.3 bhp</td>\n",
       "      <td>5.0</td>\n",
       "      <td>NaN</td>\n",
       "    </tr>\n",
       "    <tr>\n",
       "      <th>2</th>\n",
       "      <td>Toyota Innova Crysta Touring Sport 2.4 MT</td>\n",
       "      <td>Mumbai</td>\n",
       "      <td>2017</td>\n",
       "      <td>34000</td>\n",
       "      <td>Diesel</td>\n",
       "      <td>Manual</td>\n",
       "      <td>First</td>\n",
       "      <td>13.68 kmpl</td>\n",
       "      <td>2393 CC</td>\n",
       "      <td>147.8 bhp</td>\n",
       "      <td>7.0</td>\n",
       "      <td>25.27 Lakh</td>\n",
       "    </tr>\n",
       "    <tr>\n",
       "      <th>3</th>\n",
       "      <td>Toyota Etios Liva GD</td>\n",
       "      <td>Hyderabad</td>\n",
       "      <td>2012</td>\n",
       "      <td>139000</td>\n",
       "      <td>Diesel</td>\n",
       "      <td>Manual</td>\n",
       "      <td>First</td>\n",
       "      <td>23.59 kmpl</td>\n",
       "      <td>1364 CC</td>\n",
       "      <td>null bhp</td>\n",
       "      <td>5.0</td>\n",
       "      <td>NaN</td>\n",
       "    </tr>\n",
       "    <tr>\n",
       "      <th>4</th>\n",
       "      <td>Hyundai i20 Magna</td>\n",
       "      <td>Mumbai</td>\n",
       "      <td>2014</td>\n",
       "      <td>29000</td>\n",
       "      <td>Petrol</td>\n",
       "      <td>Manual</td>\n",
       "      <td>First</td>\n",
       "      <td>18.5 kmpl</td>\n",
       "      <td>1197 CC</td>\n",
       "      <td>82.85 bhp</td>\n",
       "      <td>5.0</td>\n",
       "      <td>NaN</td>\n",
       "    </tr>\n",
       "  </tbody>\n",
       "</table>\n",
       "</div>"
      ],
      "text/plain": [
       "                                        Name    Location  Year  \\\n",
       "0                    Maruti Alto K10 LXI CNG       Delhi  2014   \n",
       "1              Maruti Alto 800 2016-2019 LXI  Coimbatore  2013   \n",
       "2  Toyota Innova Crysta Touring Sport 2.4 MT      Mumbai  2017   \n",
       "3                       Toyota Etios Liva GD   Hyderabad  2012   \n",
       "4                          Hyundai i20 Magna      Mumbai  2014   \n",
       "\n",
       "   Kilometers_Driven Fuel_Type Transmission Owner_Type      Mileage   Engine  \\\n",
       "0              40929       CNG       Manual      First  32.26 km/kg   998 CC   \n",
       "1              54493    Petrol       Manual     Second    24.7 kmpl   796 CC   \n",
       "2              34000    Diesel       Manual      First   13.68 kmpl  2393 CC   \n",
       "3             139000    Diesel       Manual      First   23.59 kmpl  1364 CC   \n",
       "4              29000    Petrol       Manual      First    18.5 kmpl  1197 CC   \n",
       "\n",
       "       Power  Seats   New_Price  \n",
       "0   58.2 bhp    4.0         NaN  \n",
       "1   47.3 bhp    5.0         NaN  \n",
       "2  147.8 bhp    7.0  25.27 Lakh  \n",
       "3   null bhp    5.0         NaN  \n",
       "4  82.85 bhp    5.0         NaN  "
      ]
     },
     "execution_count": 185,
     "metadata": {},
     "output_type": "execute_result"
    }
   ],
   "source": [
    "df_train.head()\n",
    "df_test.head()"
   ]
  },
  {
   "cell_type": "code",
   "execution_count": 186,
   "metadata": {},
   "outputs": [],
   "source": [
    "def extract_numeric_vals(data):\n",
    "    data['Mileage']= pd.to_numeric(data['Mileage'].str.extract(r'^(\\d*)', expand=False)) \n",
    "    data['Engine']=pd.to_numeric(data['Engine'].str.extract(r'^(\\d*)', expand=False))\n",
    "    data['Power']=pd.to_numeric(data['Power'].str.extract(r'^(\\d*)', expand=False))\n",
    "   #data.fillna(data.mean(),inplace=True)\n",
    "    return data\n"
   ]
  },
  {
   "cell_type": "code",
   "execution_count": 187,
   "metadata": {},
   "outputs": [],
   "source": [
    "df_train[\"Brand\"] = df_train[\"Name\"].apply(lambda x: str(x).split(\" \")[0])\n",
    "df_test[\"Brand\"] = df_test[\"Name\"].apply(lambda x: str(x).split(\" \")[0])"
   ]
  },
  {
   "cell_type": "code",
   "execution_count": 188,
   "metadata": {},
   "outputs": [],
   "source": [
    "def show_missing_count(data):\n",
    "    miss_percent = (data.isnull().sum() / len(data)) * 100\n",
    "    missing = pd.DataFrame({\"Percent\":miss_percent, 'Count':data.isnull().sum()}).sort_values(by=\"Percent\", ascending=False)\n",
    "    missing=missing.loc[missing['Percent'] > 0]\n",
    "    return missing"
   ]
  },
  {
   "cell_type": "code",
   "execution_count": 189,
   "metadata": {},
   "outputs": [
    {
     "data": {
      "text/html": [
       "<div>\n",
       "<style scoped>\n",
       "    .dataframe tbody tr th:only-of-type {\n",
       "        vertical-align: middle;\n",
       "    }\n",
       "\n",
       "    .dataframe tbody tr th {\n",
       "        vertical-align: top;\n",
       "    }\n",
       "\n",
       "    .dataframe thead th {\n",
       "        text-align: right;\n",
       "    }\n",
       "</style>\n",
       "<table border=\"1\" class=\"dataframe\">\n",
       "  <thead>\n",
       "    <tr style=\"text-align: right;\">\n",
       "      <th></th>\n",
       "      <th>Percent</th>\n",
       "      <th>Count</th>\n",
       "    </tr>\n",
       "  </thead>\n",
       "  <tbody>\n",
       "    <tr>\n",
       "      <th>New_Price</th>\n",
       "      <td>86.310018</td>\n",
       "      <td>5195</td>\n",
       "    </tr>\n",
       "    <tr>\n",
       "      <th>Seats</th>\n",
       "      <td>0.697790</td>\n",
       "      <td>42</td>\n",
       "    </tr>\n",
       "    <tr>\n",
       "      <th>Engine</th>\n",
       "      <td>0.598106</td>\n",
       "      <td>36</td>\n",
       "    </tr>\n",
       "    <tr>\n",
       "      <th>Power</th>\n",
       "      <td>0.598106</td>\n",
       "      <td>36</td>\n",
       "    </tr>\n",
       "    <tr>\n",
       "      <th>Mileage</th>\n",
       "      <td>0.033228</td>\n",
       "      <td>2</td>\n",
       "    </tr>\n",
       "  </tbody>\n",
       "</table>\n",
       "</div>"
      ],
      "text/plain": [
       "             Percent  Count\n",
       "New_Price  86.310018   5195\n",
       "Seats       0.697790     42\n",
       "Engine      0.598106     36\n",
       "Power       0.598106     36\n",
       "Mileage     0.033228      2"
      ]
     },
     "execution_count": 189,
     "metadata": {},
     "output_type": "execute_result"
    }
   ],
   "source": [
    "show_missing_count(df_train)"
   ]
  },
  {
   "cell_type": "code",
   "execution_count": 190,
   "metadata": {},
   "outputs": [
    {
     "data": {
      "text/html": [
       "<div>\n",
       "<style scoped>\n",
       "    .dataframe tbody tr th:only-of-type {\n",
       "        vertical-align: middle;\n",
       "    }\n",
       "\n",
       "    .dataframe tbody tr th {\n",
       "        vertical-align: top;\n",
       "    }\n",
       "\n",
       "    .dataframe thead th {\n",
       "        text-align: right;\n",
       "    }\n",
       "</style>\n",
       "<table border=\"1\" class=\"dataframe\">\n",
       "  <thead>\n",
       "    <tr style=\"text-align: right;\">\n",
       "      <th></th>\n",
       "      <th>Percent</th>\n",
       "      <th>Count</th>\n",
       "    </tr>\n",
       "  </thead>\n",
       "  <tbody>\n",
       "    <tr>\n",
       "      <th>New_Price</th>\n",
       "      <td>85.251216</td>\n",
       "      <td>1052</td>\n",
       "    </tr>\n",
       "    <tr>\n",
       "      <th>Seats</th>\n",
       "      <td>0.891410</td>\n",
       "      <td>11</td>\n",
       "    </tr>\n",
       "    <tr>\n",
       "      <th>Engine</th>\n",
       "      <td>0.810373</td>\n",
       "      <td>10</td>\n",
       "    </tr>\n",
       "    <tr>\n",
       "      <th>Power</th>\n",
       "      <td>0.810373</td>\n",
       "      <td>10</td>\n",
       "    </tr>\n",
       "  </tbody>\n",
       "</table>\n",
       "</div>"
      ],
      "text/plain": [
       "             Percent  Count\n",
       "New_Price  85.251216   1052\n",
       "Seats       0.891410     11\n",
       "Engine      0.810373     10\n",
       "Power       0.810373     10"
      ]
     },
     "execution_count": 190,
     "metadata": {},
     "output_type": "execute_result"
    }
   ],
   "source": [
    "show_missing_count(df_test)"
   ]
  },
  {
   "cell_type": "code",
   "execution_count": 191,
   "metadata": {},
   "outputs": [
    {
     "data": {
      "text/plain": [
       "array(['bhp', 'nan'], dtype=object)"
      ]
     },
     "execution_count": 191,
     "metadata": {},
     "output_type": "execute_result"
    }
   ],
   "source": [
    "tdf=df_train[\"Power\"].apply(lambda x : str(x).split(\" \")[-1])\n",
    "tdf.unique()"
   ]
  },
  {
   "cell_type": "code",
   "execution_count": 192,
   "metadata": {},
   "outputs": [
    {
     "data": {
      "text/plain": [
       "array(['CC', 'nan'], dtype=object)"
      ]
     },
     "execution_count": 192,
     "metadata": {},
     "output_type": "execute_result"
    }
   ],
   "source": [
    "tdf=df_train[\"Engine\"].apply(lambda x : str(x).split(\" \")[-1])\n",
    "tdf.unique()"
   ]
  },
  {
   "cell_type": "code",
   "execution_count": 193,
   "metadata": {},
   "outputs": [
    {
     "data": {
      "text/plain": [
       "array(['km/kg', 'kmpl', 'nan'], dtype=object)"
      ]
     },
     "execution_count": 193,
     "metadata": {},
     "output_type": "execute_result"
    }
   ],
   "source": [
    "tdf=df_train[\"Mileage\"].apply(lambda x : str(x).split(\" \")[-1])\n",
    "tdf.unique()"
   ]
  },
  {
   "cell_type": "code",
   "execution_count": 194,
   "metadata": {},
   "outputs": [
    {
     "name": "stdout",
     "output_type": "stream",
     "text": [
      "['Fuel_Type']  :  ['CNG' 'Diesel' 'Petrol' 'LPG' 'Electric']\n",
      "['Owner_Type']  :  ['First' 'Second' 'Fourth & Above' 'Third']\n",
      "['Transmission']  :  ['Manual' 'Automatic']\n",
      "['Seats']  :  [ 5.  7.  8.  4.  6.  2. nan 10.  9.  0.]\n",
      "['Brand']  :  ['Maruti' 'Hyundai' 'Honda' 'Audi' 'Nissan' 'Toyota' 'Volkswagen' 'Tata'\n",
      " 'Land' 'Mitsubishi' 'Renault' 'Mercedes-Benz' 'BMW' 'Mahindra' 'Ford'\n",
      " 'Porsche' 'Datsun' 'Jaguar' 'Volvo' 'Chevrolet' 'Skoda' 'Mini' 'Fiat'\n",
      " 'Jeep' 'Smart' 'Ambassador' 'Isuzu' 'ISUZU' 'Force' 'Bentley'\n",
      " 'Lamborghini']\n"
     ]
    }
   ],
   "source": [
    "cat_val = [\"Fuel_Type\",\"Owner_Type\",\"Transmission\",\"Seats\",\"Brand\"]\n",
    "\n",
    "for col in cat_val:\n",
    "    print ([col],\" : \",df_train[col].unique())"
   ]
  },
  {
   "cell_type": "code",
   "execution_count": 195,
   "metadata": {},
   "outputs": [
    {
     "name": "stdout",
     "output_type": "stream",
     "text": [
      "['Fuel_Type']  :  ['CNG' 'Petrol' 'Diesel' 'LPG']\n",
      "['Owner_Type']  :  ['First' 'Second' 'Third' 'Fourth & Above']\n",
      "['Transmission']  :  ['Manual' 'Automatic']\n",
      "['Seats']  :  [ 4.  5.  7. nan  6.  8. 10.  2.]\n",
      "['Brand']  :  ['Maruti' 'Toyota' 'Hyundai' 'Mahindra' 'Honda' 'Audi' 'Nissan' 'BMW'\n",
      " 'Ford' 'Skoda' 'Volkswagen' 'Mitsubishi' 'Mercedes-Benz' 'Tata'\n",
      " 'Chevrolet' 'Datsun' 'Jaguar' 'Fiat' 'Hindustan' 'Renault' 'Mini'\n",
      " 'Bentley' 'Land' 'Volvo' 'Isuzu' 'Jeep' 'Porsche' 'ISUZU' 'OpelCorsa']\n"
     ]
    }
   ],
   "source": [
    "for col in cat_val:\n",
    "    print ([col],\" : \",df_test[col].unique())"
   ]
  },
  {
   "cell_type": "code",
   "execution_count": 196,
   "metadata": {},
   "outputs": [],
   "source": [
    "df_train['Brand'].replace(\"ISUZU\",\"Isuzu\",inplace=True)\n",
    "df_test['Brand'].replace(\"ISUZU\",\"Isuzu\",inplace=True)\n",
    "\n",
    "df_train['Brand'].replace(\"Land\",\"Land-Rover\",inplace=True)\n",
    "df_test['Brand'].replace(\"Land\",\"Land-Rover\",inplace=True)"
   ]
  },
  {
   "cell_type": "code",
   "execution_count": 197,
   "metadata": {},
   "outputs": [],
   "source": [
    "df_train=extract_numeric_vals(df_train)\n",
    "df_test=extract_numeric_vals(df_test)"
   ]
  },
  {
   "cell_type": "code",
   "execution_count": 198,
   "metadata": {},
   "outputs": [],
   "source": [
    "import datetime\n",
    "current_date = datetime.datetime.now()\n",
    "df_train['Years_old'] = df_train['Year'].apply(lambda x : current_date.year - x)\n",
    "df_test['Years_old'] = df_test['Year'].apply(lambda x : current_date.year - x)\n"
   ]
  },
  {
   "cell_type": "code",
   "execution_count": 199,
   "metadata": {},
   "outputs": [],
   "source": [
    "df_train.drop(\"Year\",axis=1,inplace=True)\n",
    "df_test.drop(\"Year\",axis=1,inplace=True)"
   ]
  },
  {
   "cell_type": "code",
   "execution_count": 200,
   "metadata": {},
   "outputs": [
    {
     "data": {
      "text/html": [
       "<div>\n",
       "<style scoped>\n",
       "    .dataframe tbody tr th:only-of-type {\n",
       "        vertical-align: middle;\n",
       "    }\n",
       "\n",
       "    .dataframe tbody tr th {\n",
       "        vertical-align: top;\n",
       "    }\n",
       "\n",
       "    .dataframe thead th {\n",
       "        text-align: right;\n",
       "    }\n",
       "</style>\n",
       "<table border=\"1\" class=\"dataframe\">\n",
       "  <thead>\n",
       "    <tr style=\"text-align: right;\">\n",
       "      <th></th>\n",
       "      <th>Kilometers_Driven</th>\n",
       "      <th>Mileage</th>\n",
       "      <th>Engine</th>\n",
       "      <th>Power</th>\n",
       "      <th>Seats</th>\n",
       "      <th>Price</th>\n",
       "      <th>Years_old</th>\n",
       "    </tr>\n",
       "  </thead>\n",
       "  <tbody>\n",
       "    <tr>\n",
       "      <th>count</th>\n",
       "      <td>6.019000e+03</td>\n",
       "      <td>6017.000000</td>\n",
       "      <td>5983.000000</td>\n",
       "      <td>5876.000000</td>\n",
       "      <td>5977.000000</td>\n",
       "      <td>6019.000000</td>\n",
       "      <td>6019.000000</td>\n",
       "    </tr>\n",
       "    <tr>\n",
       "      <th>mean</th>\n",
       "      <td>5.873838e+04</td>\n",
       "      <td>17.710487</td>\n",
       "      <td>1621.276450</td>\n",
       "      <td>112.938223</td>\n",
       "      <td>5.278735</td>\n",
       "      <td>9.479468</td>\n",
       "      <td>6.641801</td>\n",
       "    </tr>\n",
       "    <tr>\n",
       "      <th>std</th>\n",
       "      <td>9.126884e+04</td>\n",
       "      <td>4.579195</td>\n",
       "      <td>601.355233</td>\n",
       "      <td>53.917208</td>\n",
       "      <td>0.808840</td>\n",
       "      <td>11.187917</td>\n",
       "      <td>3.269742</td>\n",
       "    </tr>\n",
       "    <tr>\n",
       "      <th>min</th>\n",
       "      <td>1.710000e+02</td>\n",
       "      <td>0.000000</td>\n",
       "      <td>72.000000</td>\n",
       "      <td>34.000000</td>\n",
       "      <td>0.000000</td>\n",
       "      <td>0.440000</td>\n",
       "      <td>1.000000</td>\n",
       "    </tr>\n",
       "    <tr>\n",
       "      <th>25%</th>\n",
       "      <td>3.400000e+04</td>\n",
       "      <td>15.000000</td>\n",
       "      <td>1198.000000</td>\n",
       "      <td>75.000000</td>\n",
       "      <td>5.000000</td>\n",
       "      <td>3.500000</td>\n",
       "      <td>4.000000</td>\n",
       "    </tr>\n",
       "    <tr>\n",
       "      <th>50%</th>\n",
       "      <td>5.300000e+04</td>\n",
       "      <td>18.000000</td>\n",
       "      <td>1493.000000</td>\n",
       "      <td>97.000000</td>\n",
       "      <td>5.000000</td>\n",
       "      <td>5.640000</td>\n",
       "      <td>6.000000</td>\n",
       "    </tr>\n",
       "    <tr>\n",
       "      <th>75%</th>\n",
       "      <td>7.300000e+04</td>\n",
       "      <td>21.000000</td>\n",
       "      <td>1984.000000</td>\n",
       "      <td>138.000000</td>\n",
       "      <td>5.000000</td>\n",
       "      <td>9.950000</td>\n",
       "      <td>9.000000</td>\n",
       "    </tr>\n",
       "    <tr>\n",
       "      <th>max</th>\n",
       "      <td>6.500000e+06</td>\n",
       "      <td>33.000000</td>\n",
       "      <td>5998.000000</td>\n",
       "      <td>560.000000</td>\n",
       "      <td>10.000000</td>\n",
       "      <td>160.000000</td>\n",
       "      <td>22.000000</td>\n",
       "    </tr>\n",
       "  </tbody>\n",
       "</table>\n",
       "</div>"
      ],
      "text/plain": [
       "       Kilometers_Driven      Mileage       Engine        Power        Seats  \\\n",
       "count       6.019000e+03  6017.000000  5983.000000  5876.000000  5977.000000   \n",
       "mean        5.873838e+04    17.710487  1621.276450   112.938223     5.278735   \n",
       "std         9.126884e+04     4.579195   601.355233    53.917208     0.808840   \n",
       "min         1.710000e+02     0.000000    72.000000    34.000000     0.000000   \n",
       "25%         3.400000e+04    15.000000  1198.000000    75.000000     5.000000   \n",
       "50%         5.300000e+04    18.000000  1493.000000    97.000000     5.000000   \n",
       "75%         7.300000e+04    21.000000  1984.000000   138.000000     5.000000   \n",
       "max         6.500000e+06    33.000000  5998.000000   560.000000    10.000000   \n",
       "\n",
       "             Price    Years_old  \n",
       "count  6019.000000  6019.000000  \n",
       "mean      9.479468     6.641801  \n",
       "std      11.187917     3.269742  \n",
       "min       0.440000     1.000000  \n",
       "25%       3.500000     4.000000  \n",
       "50%       5.640000     6.000000  \n",
       "75%       9.950000     9.000000  \n",
       "max     160.000000    22.000000  "
      ]
     },
     "execution_count": 200,
     "metadata": {},
     "output_type": "execute_result"
    }
   ],
   "source": [
    "df_train.describe()"
   ]
  },
  {
   "cell_type": "code",
   "execution_count": 201,
   "metadata": {},
   "outputs": [
    {
     "data": {
      "text/html": [
       "<div>\n",
       "<style scoped>\n",
       "    .dataframe tbody tr th:only-of-type {\n",
       "        vertical-align: middle;\n",
       "    }\n",
       "\n",
       "    .dataframe tbody tr th {\n",
       "        vertical-align: top;\n",
       "    }\n",
       "\n",
       "    .dataframe thead th {\n",
       "        text-align: right;\n",
       "    }\n",
       "</style>\n",
       "<table border=\"1\" class=\"dataframe\">\n",
       "  <thead>\n",
       "    <tr style=\"text-align: right;\">\n",
       "      <th></th>\n",
       "      <th>Kilometers_Driven</th>\n",
       "      <th>Mileage</th>\n",
       "      <th>Engine</th>\n",
       "      <th>Power</th>\n",
       "      <th>Seats</th>\n",
       "      <th>Years_old</th>\n",
       "    </tr>\n",
       "  </thead>\n",
       "  <tbody>\n",
       "    <tr>\n",
       "      <th>count</th>\n",
       "      <td>1234.000000</td>\n",
       "      <td>1234.000000</td>\n",
       "      <td>1224.000000</td>\n",
       "      <td>1202.000000</td>\n",
       "      <td>1223.000000</td>\n",
       "      <td>1234.000000</td>\n",
       "    </tr>\n",
       "    <tr>\n",
       "      <th>mean</th>\n",
       "      <td>58507.288493</td>\n",
       "      <td>17.752836</td>\n",
       "      <td>1593.584967</td>\n",
       "      <td>110.055740</td>\n",
       "      <td>5.284546</td>\n",
       "      <td>6.599676</td>\n",
       "    </tr>\n",
       "    <tr>\n",
       "      <th>std</th>\n",
       "      <td>35598.702098</td>\n",
       "      <td>4.465931</td>\n",
       "      <td>564.347723</td>\n",
       "      <td>51.575392</td>\n",
       "      <td>0.825622</td>\n",
       "      <td>3.179700</td>\n",
       "    </tr>\n",
       "    <tr>\n",
       "      <th>min</th>\n",
       "      <td>1000.000000</td>\n",
       "      <td>0.000000</td>\n",
       "      <td>624.000000</td>\n",
       "      <td>34.000000</td>\n",
       "      <td>2.000000</td>\n",
       "      <td>1.000000</td>\n",
       "    </tr>\n",
       "    <tr>\n",
       "      <th>25%</th>\n",
       "      <td>34000.000000</td>\n",
       "      <td>15.000000</td>\n",
       "      <td>1198.000000</td>\n",
       "      <td>75.000000</td>\n",
       "      <td>5.000000</td>\n",
       "      <td>4.000000</td>\n",
       "    </tr>\n",
       "    <tr>\n",
       "      <th>50%</th>\n",
       "      <td>54572.500000</td>\n",
       "      <td>18.000000</td>\n",
       "      <td>1461.000000</td>\n",
       "      <td>93.000000</td>\n",
       "      <td>5.000000</td>\n",
       "      <td>6.000000</td>\n",
       "    </tr>\n",
       "    <tr>\n",
       "      <th>75%</th>\n",
       "      <td>75000.000000</td>\n",
       "      <td>21.000000</td>\n",
       "      <td>1968.000000</td>\n",
       "      <td>130.000000</td>\n",
       "      <td>5.000000</td>\n",
       "      <td>9.000000</td>\n",
       "    </tr>\n",
       "    <tr>\n",
       "      <th>max</th>\n",
       "      <td>350000.000000</td>\n",
       "      <td>32.000000</td>\n",
       "      <td>5998.000000</td>\n",
       "      <td>616.000000</td>\n",
       "      <td>10.000000</td>\n",
       "      <td>24.000000</td>\n",
       "    </tr>\n",
       "  </tbody>\n",
       "</table>\n",
       "</div>"
      ],
      "text/plain": [
       "       Kilometers_Driven      Mileage       Engine        Power        Seats  \\\n",
       "count        1234.000000  1234.000000  1224.000000  1202.000000  1223.000000   \n",
       "mean        58507.288493    17.752836  1593.584967   110.055740     5.284546   \n",
       "std         35598.702098     4.465931   564.347723    51.575392     0.825622   \n",
       "min          1000.000000     0.000000   624.000000    34.000000     2.000000   \n",
       "25%         34000.000000    15.000000  1198.000000    75.000000     5.000000   \n",
       "50%         54572.500000    18.000000  1461.000000    93.000000     5.000000   \n",
       "75%         75000.000000    21.000000  1968.000000   130.000000     5.000000   \n",
       "max        350000.000000    32.000000  5998.000000   616.000000    10.000000   \n",
       "\n",
       "         Years_old  \n",
       "count  1234.000000  \n",
       "mean      6.599676  \n",
       "std       3.179700  \n",
       "min       1.000000  \n",
       "25%       4.000000  \n",
       "50%       6.000000  \n",
       "75%       9.000000  \n",
       "max      24.000000  "
      ]
     },
     "execution_count": 201,
     "metadata": {},
     "output_type": "execute_result"
    }
   ],
   "source": [
    "df_test.describe()"
   ]
  },
  {
   "cell_type": "code",
   "execution_count": 202,
   "metadata": {},
   "outputs": [
    {
     "data": {
      "text/html": [
       "<div>\n",
       "<style scoped>\n",
       "    .dataframe tbody tr th:only-of-type {\n",
       "        vertical-align: middle;\n",
       "    }\n",
       "\n",
       "    .dataframe tbody tr th {\n",
       "        vertical-align: top;\n",
       "    }\n",
       "\n",
       "    .dataframe thead th {\n",
       "        text-align: right;\n",
       "    }\n",
       "</style>\n",
       "<table border=\"1\" class=\"dataframe\">\n",
       "  <thead>\n",
       "    <tr style=\"text-align: right;\">\n",
       "      <th></th>\n",
       "      <th>Name</th>\n",
       "      <th>Location</th>\n",
       "      <th>Kilometers_Driven</th>\n",
       "      <th>Fuel_Type</th>\n",
       "      <th>Transmission</th>\n",
       "      <th>Owner_Type</th>\n",
       "      <th>Mileage</th>\n",
       "      <th>Engine</th>\n",
       "      <th>Power</th>\n",
       "      <th>Seats</th>\n",
       "      <th>New_Price</th>\n",
       "      <th>Price</th>\n",
       "      <th>Brand</th>\n",
       "      <th>Years_old</th>\n",
       "    </tr>\n",
       "  </thead>\n",
       "  <tbody>\n",
       "    <tr>\n",
       "      <th>3999</th>\n",
       "      <td>Audi A4 3.2 FSI Tiptronic Quattro</td>\n",
       "      <td>Hyderabad</td>\n",
       "      <td>125000</td>\n",
       "      <td>Petrol</td>\n",
       "      <td>Automatic</td>\n",
       "      <td>First</td>\n",
       "      <td>10.0</td>\n",
       "      <td>3197.0</td>\n",
       "      <td>NaN</td>\n",
       "      <td>0.0</td>\n",
       "      <td>NaN</td>\n",
       "      <td>18.0</td>\n",
       "      <td>Audi</td>\n",
       "      <td>8</td>\n",
       "    </tr>\n",
       "  </tbody>\n",
       "</table>\n",
       "</div>"
      ],
      "text/plain": [
       "                                   Name   Location  Kilometers_Driven  \\\n",
       "3999  Audi A4 3.2 FSI Tiptronic Quattro  Hyderabad             125000   \n",
       "\n",
       "     Fuel_Type Transmission Owner_Type  Mileage  Engine  Power  Seats  \\\n",
       "3999    Petrol    Automatic      First     10.0  3197.0    NaN    0.0   \n",
       "\n",
       "     New_Price  Price Brand  Years_old  \n",
       "3999       NaN   18.0  Audi          8  "
      ]
     },
     "execution_count": 202,
     "metadata": {},
     "output_type": "execute_result"
    }
   ],
   "source": [
    "tdf=df_train.loc[df_train[\"Seats\"]==0]\n",
    "tdf"
   ]
  },
  {
   "cell_type": "code",
   "execution_count": 203,
   "metadata": {},
   "outputs": [
    {
     "data": {
      "text/plain": [
       "array([[<matplotlib.axes._subplots.AxesSubplot object at 0x0000019A11B35470>]],\n",
       "      dtype=object)"
      ]
     },
     "execution_count": 203,
     "metadata": {},
     "output_type": "execute_result"
    },
    {
     "data": {
      "image/png": "[encoded data removed]",
      "text/plain": [
       "<Figure size 432x288 with 1 Axes>"
      ]
     },
     "metadata": {
      "needs_background": "light"
     },
     "output_type": "display_data"
    }
   ],
   "source": [
    "df_train.hist(column=\"Mileage\")"
   ]
  },
  {
   "cell_type": "code",
   "execution_count": 204,
   "metadata": {},
   "outputs": [
    {
     "data": {
      "text/html": [
       "<div>\n",
       "<style scoped>\n",
       "    .dataframe tbody tr th:only-of-type {\n",
       "        vertical-align: middle;\n",
       "    }\n",
       "\n",
       "    .dataframe tbody tr th {\n",
       "        vertical-align: top;\n",
       "    }\n",
       "\n",
       "    .dataframe thead th {\n",
       "        text-align: right;\n",
       "    }\n",
       "</style>\n",
       "<table border=\"1\" class=\"dataframe\">\n",
       "  <thead>\n",
       "    <tr style=\"text-align: right;\">\n",
       "      <th></th>\n",
       "      <th>Name</th>\n",
       "      <th>Location</th>\n",
       "      <th>Kilometers_Driven</th>\n",
       "      <th>Fuel_Type</th>\n",
       "      <th>Transmission</th>\n",
       "      <th>Owner_Type</th>\n",
       "      <th>Mileage</th>\n",
       "      <th>Engine</th>\n",
       "      <th>Power</th>\n",
       "      <th>Seats</th>\n",
       "      <th>New_Price</th>\n",
       "      <th>Price</th>\n",
       "      <th>Brand</th>\n",
       "      <th>Years_old</th>\n",
       "    </tr>\n",
       "  </thead>\n",
       "  <tbody>\n",
       "    <tr>\n",
       "      <th>4446</th>\n",
       "      <td>Mahindra E Verito D4</td>\n",
       "      <td>Chennai</td>\n",
       "      <td>50000</td>\n",
       "      <td>Electric</td>\n",
       "      <td>Automatic</td>\n",
       "      <td>First</td>\n",
       "      <td>NaN</td>\n",
       "      <td>72.0</td>\n",
       "      <td>41.0</td>\n",
       "      <td>5.0</td>\n",
       "      <td>13.58 Lakh</td>\n",
       "      <td>13.00</td>\n",
       "      <td>Mahindra</td>\n",
       "      <td>4</td>\n",
       "    </tr>\n",
       "    <tr>\n",
       "      <th>4904</th>\n",
       "      <td>Toyota Prius 2009-2016 Z4</td>\n",
       "      <td>Mumbai</td>\n",
       "      <td>44000</td>\n",
       "      <td>Electric</td>\n",
       "      <td>Automatic</td>\n",
       "      <td>First</td>\n",
       "      <td>NaN</td>\n",
       "      <td>1798.0</td>\n",
       "      <td>73.0</td>\n",
       "      <td>5.0</td>\n",
       "      <td>NaN</td>\n",
       "      <td>12.75</td>\n",
       "      <td>Toyota</td>\n",
       "      <td>9</td>\n",
       "    </tr>\n",
       "  </tbody>\n",
       "</table>\n",
       "</div>"
      ],
      "text/plain": [
       "                           Name Location  Kilometers_Driven Fuel_Type  \\\n",
       "4446       Mahindra E Verito D4  Chennai              50000  Electric   \n",
       "4904  Toyota Prius 2009-2016 Z4   Mumbai              44000  Electric   \n",
       "\n",
       "     Transmission Owner_Type  Mileage  Engine  Power  Seats   New_Price  \\\n",
       "4446    Automatic      First      NaN    72.0   41.0    5.0  13.58 Lakh   \n",
       "4904    Automatic      First      NaN  1798.0   73.0    5.0         NaN   \n",
       "\n",
       "      Price     Brand  Years_old  \n",
       "4446  13.00  Mahindra          4  \n",
       "4904  12.75    Toyota          9  "
      ]
     },
     "execution_count": 204,
     "metadata": {},
     "output_type": "execute_result"
    }
   ],
   "source": [
    "tdf=df_train.loc[df_train[\"Fuel_Type\"]==\"Electric\"]\n",
    "tdf"
   ]
  },
  {
   "cell_type": "code",
   "execution_count": 205,
   "metadata": {},
   "outputs": [
    {
     "data": {
      "text/plain": [
       "Text(0, 58.0, '58.0')"
      ]
     },
     "execution_count": 205,
     "metadata": {},
     "output_type": "execute_result"
    },
    {
     "data": {
      "text/plain": [
       "Text(1, 108.0, '108.0')"
      ]
     },
     "execution_count": 205,
     "metadata": {},
     "output_type": "execute_result"
    },
    {
     "data": {
      "text/plain": [
       "Text(2, 83.0, '83.0')"
      ]
     },
     "execution_count": 205,
     "metadata": {},
     "output_type": "execute_result"
    },
    {
     "data": {
      "text/plain": [
       "Text(3, 58.0, '58.0')"
      ]
     },
     "execution_count": 205,
     "metadata": {},
     "output_type": "execute_result"
    },
    {
     "data": {
      "text/plain": [
       "Text(4, 57.0, '57.0')"
      ]
     },
     "execution_count": 205,
     "metadata": {},
     "output_type": "execute_result"
    },
    {
     "data": {
      "image/png": "[encoded data removed]",
      "text/plain": [
       "<Figure size 432x288 with 1 Axes>"
      ]
     },
     "metadata": {
      "needs_background": "light"
     },
     "output_type": "display_data"
    }
   ],
   "source": [
    "box_plot =sns.boxplot(x='Fuel_Type',y='Power', data=df_train)\n",
    "ax = box_plot.axes\n",
    "lines = ax.get_lines()\n",
    "categories = ax.get_xticks()\n",
    "\n",
    "for cat in categories:\n",
    "    # every 4th line at the interval of 6 is median  line\n",
    "    _y = round(lines[4+cat*6].get_ydata()[0],1) \n",
    "\n",
    "    ax.text(\n",
    "        cat, \n",
    "        _y, \n",
    "        f'{_y}', \n",
    "        ha='center', \n",
    "        va='center', \n",
    "        fontweight='normal', \n",
    "        size=12,\n",
    "        color='white',\n",
    "        bbox=dict(facecolor='#445A64'))\n",
    "\n",
    "box_plot.figure.tight_layout()\n"
   ]
  },
  {
   "cell_type": "code",
   "execution_count": 206,
   "metadata": {},
   "outputs": [
    {
     "data": {
      "text/plain": [
       "Text(0, 998.0, '998.0')"
      ]
     },
     "execution_count": 206,
     "metadata": {},
     "output_type": "execute_result"
    },
    {
     "data": {
      "text/plain": [
       "Text(1, 1598.0, '1598.0')"
      ]
     },
     "execution_count": 206,
     "metadata": {},
     "output_type": "execute_result"
    },
    {
     "data": {
      "text/plain": [
       "Text(2, 1198.0, '1198.0')"
      ]
     },
     "execution_count": 206,
     "metadata": {},
     "output_type": "execute_result"
    },
    {
     "data": {
      "text/plain": [
       "Text(3, 1061.0, '1061.0')"
      ]
     },
     "execution_count": 206,
     "metadata": {},
     "output_type": "execute_result"
    },
    {
     "data": {
      "text/plain": [
       "Text(4, 935.0, '935.0')"
      ]
     },
     "execution_count": 206,
     "metadata": {},
     "output_type": "execute_result"
    },
    {
     "data": {
      "image/png": "[encoded data removed]",
      "text/plain": [
       "<Figure size 432x288 with 1 Axes>"
      ]
     },
     "metadata": {
      "needs_background": "light"
     },
     "output_type": "display_data"
    }
   ],
   "source": [
    "box_plot =sns.boxplot(x='Fuel_Type',y='Engine', data=df_train)\n",
    "ax = box_plot.axes\n",
    "lines = ax.get_lines()\n",
    "categories = ax.get_xticks()\n",
    "\n",
    "for cat in categories:\n",
    "    # every 4th line at the interval of 6 is median  line\n",
    "    _y = round(lines[4+cat*6].get_ydata()[0],1) \n",
    "\n",
    "    ax.text(\n",
    "        cat, \n",
    "        _y, \n",
    "        f'{_y}', \n",
    "        ha='center', \n",
    "        va='center', \n",
    "        fontweight='normal', \n",
    "        size=12,\n",
    "        color='white',\n",
    "        bbox=dict(facecolor='#445A64'))\n",
    "\n",
    "box_plot.figure.tight_layout()\n"
   ]
  },
  {
   "cell_type": "code",
   "execution_count": 207,
   "metadata": {},
   "outputs": [
    {
     "data": {
      "text/plain": [
       "Text(0, 26.0, '26.0')"
      ]
     },
     "execution_count": 207,
     "metadata": {},
     "output_type": "execute_result"
    },
    {
     "data": {
      "text/plain": [
       "Text(1, 19.0, '19.0')"
      ]
     },
     "execution_count": 207,
     "metadata": {},
     "output_type": "execute_result"
    },
    {
     "data": {
      "text/plain": [
       "Text(2, 17.0, '17.0')"
      ]
     },
     "execution_count": 207,
     "metadata": {},
     "output_type": "execute_result"
    },
    {
     "data": {
      "text/plain": [
       "Text(3, 18.0, '18.0')"
      ]
     },
     "execution_count": 207,
     "metadata": {},
     "output_type": "execute_result"
    },
    {
     "data": {
      "image/png": "[encoded data removed]",
      "text/plain": [
       "<Figure size 432x288 with 1 Axes>"
      ]
     },
     "metadata": {
      "needs_background": "light"
     },
     "output_type": "display_data"
    }
   ],
   "source": [
    "tmp=df_train.drop( df_train[ df_train['Fuel_Type'] == \"Electric\" ].index)\n",
    "box_plot =sns.boxplot(x='Fuel_Type',y='Mileage', data=tmp)\n",
    "ax = box_plot.axes\n",
    "lines = ax.get_lines()\n",
    "categories = ax.get_xticks()\n",
    "\n",
    "for cat in categories:\n",
    "    # every 4th line at the interval of 6 is median  line\n",
    "    _y = round(lines[4+cat*6].get_ydata()[0],1) \n",
    "\n",
    "    ax.text(\n",
    "        cat, \n",
    "        _y, \n",
    "        f'{_y}', \n",
    "        ha='center', \n",
    "        va='center', \n",
    "        fontweight='normal', \n",
    "        size=12,\n",
    "        color='white',\n",
    "        bbox=dict(facecolor='#445A64'))\n",
    "\n",
    "box_plot.figure.tight_layout()"
   ]
  },
  {
   "cell_type": "code",
   "execution_count": 208,
   "metadata": {},
   "outputs": [
    {
     "data": {
      "text/plain": [
       "<matplotlib.axes._subplots.AxesSubplot at 0x19a11be9e10>"
      ]
     },
     "execution_count": 208,
     "metadata": {},
     "output_type": "execute_result"
    },
    {
     "data": {
      "image/png": "[encoded data removed]",
      "text/plain": [
       "<Figure size 432x288 with 1 Axes>"
      ]
     },
     "metadata": {
      "needs_background": "light"
     },
     "output_type": "display_data"
    }
   ],
   "source": [
    "sns.scatterplot(y='Engine',x='Power', data=df_train)\n",
    "# sns.scatterplot(y='Power',x='Mileage', data=df_train)"
   ]
  },
  {
   "cell_type": "code",
   "execution_count": 209,
   "metadata": {},
   "outputs": [
    {
     "data": {
      "text/plain": [
       "<matplotlib.axes._subplots.AxesSubplot at 0x19a11bf8898>"
      ]
     },
     "execution_count": 209,
     "metadata": {},
     "output_type": "execute_result"
    },
    {
     "data": {
      "image/png": "[encoded data removed]",
      "text/plain": [
       "<Figure size 720x720 with 2 Axes>"
      ]
     },
     "metadata": {
      "needs_background": "light"
     },
     "output_type": "display_data"
    }
   ],
   "source": [
    "figsize(10,10)\n",
    "sns.heatmap(df_train.corr(),vmin=-1, vmax=1, center=0,\n",
    "    cmap=sns.diverging_palette(20, 220, n=200),\n",
    "    square=True)\n",
    "#plt.savefig('filename.png', dpi=300)"
   ]
  },
  {
   "cell_type": "code",
   "execution_count": 210,
   "metadata": {},
   "outputs": [],
   "source": [
    "def inpute_engine(cols):\n",
    "    Engine=cols[0]\n",
    "    Fuel_Type=cols[1]\n",
    "    if pd.isnull(Engine):\n",
    "        if Fuel_Type == 'CNG':\n",
    "            return 998\n",
    "        elif Fuel_Type == 'Diesel':\n",
    "            return 1598\n",
    "        elif Fuel_Type == 'Petrol':\n",
    "            return 1198\n",
    "        elif Fuel_Type == 'LPG':\n",
    "            return 1061\n",
    "        else:\n",
    "            return 935\n",
    "    else:\n",
    "        return Engine\n",
    "        \n",
    "def inpute_power(cols):\n",
    "    Power=cols[0]\n",
    "    Fuel_Type=cols[1]\n",
    "    if pd.isnull(Power):\n",
    "        if Fuel_Type == 'CNG':\n",
    "            return 58\n",
    "        elif Fuel_Type == 'Diesel':\n",
    "            return 108\n",
    "        elif Fuel_Type == 'Petrol':\n",
    "            return 83\n",
    "        elif Fuel_Type == 'LPG':\n",
    "            return 58\n",
    "        else:\n",
    "            return 57\n",
    "    else:\n",
    "        return Power\n",
    "    \n",
    "def inpute_mileage(cols):\n",
    "    Mileage=cols[0]\n",
    "    Fuel_Type=cols[1]\n",
    "    if Mileage==0:\n",
    "        if Fuel_Type == 'CNG':\n",
    "            return 26\n",
    "        elif Fuel_Type == 'Diesel':\n",
    "            return 19\n",
    "        elif Fuel_Type == 'Petrol':\n",
    "            return 17\n",
    "        elif Fuel_Type == 'LPG':\n",
    "            return 18\n",
    "        else:\n",
    "            return 20\n",
    "    else:\n",
    "        return Mileage\n",
    "        "
   ]
  },
  {
   "cell_type": "code",
   "execution_count": 211,
   "metadata": {},
   "outputs": [],
   "source": [
    "df_train['Power'] = df_train[['Power','Fuel_Type']].apply(inpute_power,axis=1)\n",
    "df_train['Engine'] = df_train[['Engine','Fuel_Type']].apply(inpute_engine,axis=1)\n",
    "df_train['Mileage'] = df_train[['Mileage','Fuel_Type']].apply(inpute_mileage,axis=1)\n",
    "\n",
    "df_test['Power'] = df_test[['Power','Fuel_Type']].apply(inpute_power,axis=1)\n",
    "df_test['Engine'] = df_test[['Engine','Fuel_Type']].apply(inpute_engine,axis=1)\n",
    "df_test['Mileage'] = df_test[['Mileage','Fuel_Type']].apply(inpute_mileage,axis=1)"
   ]
  },
  {
   "cell_type": "code",
   "execution_count": 212,
   "metadata": {},
   "outputs": [
    {
     "data": {
      "text/html": [
       "<div>\n",
       "<style scoped>\n",
       "    .dataframe tbody tr th:only-of-type {\n",
       "        vertical-align: middle;\n",
       "    }\n",
       "\n",
       "    .dataframe tbody tr th {\n",
       "        vertical-align: top;\n",
       "    }\n",
       "\n",
       "    .dataframe thead th {\n",
       "        text-align: right;\n",
       "    }\n",
       "</style>\n",
       "<table border=\"1\" class=\"dataframe\">\n",
       "  <thead>\n",
       "    <tr style=\"text-align: right;\">\n",
       "      <th></th>\n",
       "      <th>Percent</th>\n",
       "      <th>Count</th>\n",
       "    </tr>\n",
       "  </thead>\n",
       "  <tbody>\n",
       "    <tr>\n",
       "      <th>New_Price</th>\n",
       "      <td>86.310018</td>\n",
       "      <td>5195</td>\n",
       "    </tr>\n",
       "    <tr>\n",
       "      <th>Seats</th>\n",
       "      <td>0.697790</td>\n",
       "      <td>42</td>\n",
       "    </tr>\n",
       "    <tr>\n",
       "      <th>Mileage</th>\n",
       "      <td>0.033228</td>\n",
       "      <td>2</td>\n",
       "    </tr>\n",
       "  </tbody>\n",
       "</table>\n",
       "</div>"
      ],
      "text/plain": [
       "             Percent  Count\n",
       "New_Price  86.310018   5195\n",
       "Seats       0.697790     42\n",
       "Mileage     0.033228      2"
      ]
     },
     "execution_count": 212,
     "metadata": {},
     "output_type": "execute_result"
    }
   ],
   "source": [
    "show_missing_count(df_train)"
   ]
  },
  {
   "cell_type": "code",
   "execution_count": 213,
   "metadata": {},
   "outputs": [
    {
     "data": {
      "text/html": [
       "<div>\n",
       "<style scoped>\n",
       "    .dataframe tbody tr th:only-of-type {\n",
       "        vertical-align: middle;\n",
       "    }\n",
       "\n",
       "    .dataframe tbody tr th {\n",
       "        vertical-align: top;\n",
       "    }\n",
       "\n",
       "    .dataframe thead th {\n",
       "        text-align: right;\n",
       "    }\n",
       "</style>\n",
       "<table border=\"1\" class=\"dataframe\">\n",
       "  <thead>\n",
       "    <tr style=\"text-align: right;\">\n",
       "      <th></th>\n",
       "      <th>Percent</th>\n",
       "      <th>Count</th>\n",
       "    </tr>\n",
       "  </thead>\n",
       "  <tbody>\n",
       "    <tr>\n",
       "      <th>New_Price</th>\n",
       "      <td>85.251216</td>\n",
       "      <td>1052</td>\n",
       "    </tr>\n",
       "    <tr>\n",
       "      <th>Seats</th>\n",
       "      <td>0.891410</td>\n",
       "      <td>11</td>\n",
       "    </tr>\n",
       "  </tbody>\n",
       "</table>\n",
       "</div>"
      ],
      "text/plain": [
       "             Percent  Count\n",
       "New_Price  85.251216   1052\n",
       "Seats       0.891410     11"
      ]
     },
     "execution_count": 213,
     "metadata": {},
     "output_type": "execute_result"
    }
   ],
   "source": [
    "show_missing_count(df_test)"
   ]
  },
  {
   "cell_type": "code",
   "execution_count": 214,
   "metadata": {},
   "outputs": [],
   "source": [
    "# df_train.fillna(df_train.mean(),inplace=True)\n",
    "df_train['Seats'] = df_train['Seats'].replace(0.0,5.0,inplace=True)\n",
    "df_train['Seats'].fillna(5,inplace=True)\n",
    "df_train.fillna(df_train.mean(),inplace=True)\n",
    "\n",
    "df_test['Seats'].fillna(5,inplace=True)\n",
    "df_test.fillna(df_test.mean(),inplace=True)"
   ]
  },
  {
   "cell_type": "code",
   "execution_count": 215,
   "metadata": {},
   "outputs": [
    {
     "data": {
      "text/html": [
       "<div>\n",
       "<style scoped>\n",
       "    .dataframe tbody tr th:only-of-type {\n",
       "        vertical-align: middle;\n",
       "    }\n",
       "\n",
       "    .dataframe tbody tr th {\n",
       "        vertical-align: top;\n",
       "    }\n",
       "\n",
       "    .dataframe thead th {\n",
       "        text-align: right;\n",
       "    }\n",
       "</style>\n",
       "<table border=\"1\" class=\"dataframe\">\n",
       "  <thead>\n",
       "    <tr style=\"text-align: right;\">\n",
       "      <th></th>\n",
       "      <th>Percent</th>\n",
       "      <th>Count</th>\n",
       "    </tr>\n",
       "  </thead>\n",
       "  <tbody>\n",
       "    <tr>\n",
       "      <th>New_Price</th>\n",
       "      <td>85.251216</td>\n",
       "      <td>1052</td>\n",
       "    </tr>\n",
       "  </tbody>\n",
       "</table>\n",
       "</div>"
      ],
      "text/plain": [
       "             Percent  Count\n",
       "New_Price  85.251216   1052"
      ]
     },
     "execution_count": 215,
     "metadata": {},
     "output_type": "execute_result"
    }
   ],
   "source": [
    "show_missing_count(df_test)"
   ]
  },
  {
   "cell_type": "code",
   "execution_count": 216,
   "metadata": {},
   "outputs": [
    {
     "data": {
      "text/html": [
       "<div>\n",
       "<style scoped>\n",
       "    .dataframe tbody tr th:only-of-type {\n",
       "        vertical-align: middle;\n",
       "    }\n",
       "\n",
       "    .dataframe tbody tr th {\n",
       "        vertical-align: top;\n",
       "    }\n",
       "\n",
       "    .dataframe thead th {\n",
       "        text-align: right;\n",
       "    }\n",
       "</style>\n",
       "<table border=\"1\" class=\"dataframe\">\n",
       "  <thead>\n",
       "    <tr style=\"text-align: right;\">\n",
       "      <th></th>\n",
       "      <th>Percent</th>\n",
       "      <th>Count</th>\n",
       "    </tr>\n",
       "  </thead>\n",
       "  <tbody>\n",
       "    <tr>\n",
       "      <th>New_Price</th>\n",
       "      <td>86.310018</td>\n",
       "      <td>5195</td>\n",
       "    </tr>\n",
       "  </tbody>\n",
       "</table>\n",
       "</div>"
      ],
      "text/plain": [
       "             Percent  Count\n",
       "New_Price  86.310018   5195"
      ]
     },
     "execution_count": 216,
     "metadata": {},
     "output_type": "execute_result"
    }
   ],
   "source": [
    "show_missing_count(df_train)"
   ]
  },
  {
   "cell_type": "code",
   "execution_count": 217,
   "metadata": {},
   "outputs": [
    {
     "data": {
      "text/html": [
       "<div>\n",
       "<style scoped>\n",
       "    .dataframe tbody tr th:only-of-type {\n",
       "        vertical-align: middle;\n",
       "    }\n",
       "\n",
       "    .dataframe tbody tr th {\n",
       "        vertical-align: top;\n",
       "    }\n",
       "\n",
       "    .dataframe thead th {\n",
       "        text-align: right;\n",
       "    }\n",
       "</style>\n",
       "<table border=\"1\" class=\"dataframe\">\n",
       "  <thead>\n",
       "    <tr style=\"text-align: right;\">\n",
       "      <th></th>\n",
       "      <th>Name</th>\n",
       "      <th>Location</th>\n",
       "      <th>Kilometers_Driven</th>\n",
       "      <th>Fuel_Type</th>\n",
       "      <th>Transmission</th>\n",
       "      <th>Owner_Type</th>\n",
       "      <th>Mileage</th>\n",
       "      <th>Engine</th>\n",
       "      <th>Power</th>\n",
       "      <th>Seats</th>\n",
       "      <th>New_Price</th>\n",
       "      <th>Price</th>\n",
       "      <th>Brand</th>\n",
       "      <th>Years_old</th>\n",
       "    </tr>\n",
       "  </thead>\n",
       "  <tbody>\n",
       "    <tr>\n",
       "      <th>0</th>\n",
       "      <td>Maruti Wagon R LXI CNG</td>\n",
       "      <td>Mumbai</td>\n",
       "      <td>72000</td>\n",
       "      <td>CNG</td>\n",
       "      <td>Manual</td>\n",
       "      <td>First</td>\n",
       "      <td>26.0</td>\n",
       "      <td>998.0</td>\n",
       "      <td>58.0</td>\n",
       "      <td>5</td>\n",
       "      <td>NaN</td>\n",
       "      <td>1.75</td>\n",
       "      <td>Maruti</td>\n",
       "      <td>10</td>\n",
       "    </tr>\n",
       "    <tr>\n",
       "      <th>1</th>\n",
       "      <td>Hyundai Creta 1.6 CRDi SX Option</td>\n",
       "      <td>Pune</td>\n",
       "      <td>41000</td>\n",
       "      <td>Diesel</td>\n",
       "      <td>Manual</td>\n",
       "      <td>First</td>\n",
       "      <td>19.0</td>\n",
       "      <td>1582.0</td>\n",
       "      <td>126.0</td>\n",
       "      <td>5</td>\n",
       "      <td>NaN</td>\n",
       "      <td>12.50</td>\n",
       "      <td>Hyundai</td>\n",
       "      <td>5</td>\n",
       "    </tr>\n",
       "    <tr>\n",
       "      <th>2</th>\n",
       "      <td>Honda Jazz V</td>\n",
       "      <td>Chennai</td>\n",
       "      <td>46000</td>\n",
       "      <td>Petrol</td>\n",
       "      <td>Manual</td>\n",
       "      <td>First</td>\n",
       "      <td>18.0</td>\n",
       "      <td>1199.0</td>\n",
       "      <td>88.0</td>\n",
       "      <td>5</td>\n",
       "      <td>8.61 Lakh</td>\n",
       "      <td>4.50</td>\n",
       "      <td>Honda</td>\n",
       "      <td>9</td>\n",
       "    </tr>\n",
       "    <tr>\n",
       "      <th>3</th>\n",
       "      <td>Maruti Ertiga VDI</td>\n",
       "      <td>Chennai</td>\n",
       "      <td>87000</td>\n",
       "      <td>Diesel</td>\n",
       "      <td>Manual</td>\n",
       "      <td>First</td>\n",
       "      <td>20.0</td>\n",
       "      <td>1248.0</td>\n",
       "      <td>88.0</td>\n",
       "      <td>5</td>\n",
       "      <td>NaN</td>\n",
       "      <td>6.00</td>\n",
       "      <td>Maruti</td>\n",
       "      <td>8</td>\n",
       "    </tr>\n",
       "    <tr>\n",
       "      <th>4</th>\n",
       "      <td>Audi A4 New 2.0 TDI Multitronic</td>\n",
       "      <td>Coimbatore</td>\n",
       "      <td>40670</td>\n",
       "      <td>Diesel</td>\n",
       "      <td>Automatic</td>\n",
       "      <td>Second</td>\n",
       "      <td>15.0</td>\n",
       "      <td>1968.0</td>\n",
       "      <td>140.0</td>\n",
       "      <td>5</td>\n",
       "      <td>NaN</td>\n",
       "      <td>17.74</td>\n",
       "      <td>Audi</td>\n",
       "      <td>7</td>\n",
       "    </tr>\n",
       "  </tbody>\n",
       "</table>\n",
       "</div>"
      ],
      "text/plain": [
       "                               Name    Location  Kilometers_Driven Fuel_Type  \\\n",
       "0            Maruti Wagon R LXI CNG      Mumbai              72000       CNG   \n",
       "1  Hyundai Creta 1.6 CRDi SX Option        Pune              41000    Diesel   \n",
       "2                      Honda Jazz V     Chennai              46000    Petrol   \n",
       "3                 Maruti Ertiga VDI     Chennai              87000    Diesel   \n",
       "4   Audi A4 New 2.0 TDI Multitronic  Coimbatore              40670    Diesel   \n",
       "\n",
       "  Transmission Owner_Type  Mileage  Engine  Power  Seats  New_Price  Price  \\\n",
       "0       Manual      First     26.0   998.0   58.0      5        NaN   1.75   \n",
       "1       Manual      First     19.0  1582.0  126.0      5        NaN  12.50   \n",
       "2       Manual      First     18.0  1199.0   88.0      5  8.61 Lakh   4.50   \n",
       "3       Manual      First     20.0  1248.0   88.0      5        NaN   6.00   \n",
       "4    Automatic     Second     15.0  1968.0  140.0      5        NaN  17.74   \n",
       "\n",
       "     Brand  Years_old  \n",
       "0   Maruti         10  \n",
       "1  Hyundai          5  \n",
       "2    Honda          9  \n",
       "3   Maruti          8  \n",
       "4     Audi          7  "
      ]
     },
     "execution_count": 217,
     "metadata": {},
     "output_type": "execute_result"
    },
    {
     "data": {
      "text/html": [
       "<div>\n",
       "<style scoped>\n",
       "    .dataframe tbody tr th:only-of-type {\n",
       "        vertical-align: middle;\n",
       "    }\n",
       "\n",
       "    .dataframe tbody tr th {\n",
       "        vertical-align: top;\n",
       "    }\n",
       "\n",
       "    .dataframe thead th {\n",
       "        text-align: right;\n",
       "    }\n",
       "</style>\n",
       "<table border=\"1\" class=\"dataframe\">\n",
       "  <thead>\n",
       "    <tr style=\"text-align: right;\">\n",
       "      <th></th>\n",
       "      <th>Name</th>\n",
       "      <th>Location</th>\n",
       "      <th>Kilometers_Driven</th>\n",
       "      <th>Fuel_Type</th>\n",
       "      <th>Transmission</th>\n",
       "      <th>Owner_Type</th>\n",
       "      <th>Mileage</th>\n",
       "      <th>Engine</th>\n",
       "      <th>Power</th>\n",
       "      <th>Seats</th>\n",
       "      <th>New_Price</th>\n",
       "      <th>Brand</th>\n",
       "      <th>Years_old</th>\n",
       "    </tr>\n",
       "  </thead>\n",
       "  <tbody>\n",
       "    <tr>\n",
       "      <th>0</th>\n",
       "      <td>Maruti Alto K10 LXI CNG</td>\n",
       "      <td>Delhi</td>\n",
       "      <td>40929</td>\n",
       "      <td>CNG</td>\n",
       "      <td>Manual</td>\n",
       "      <td>First</td>\n",
       "      <td>32</td>\n",
       "      <td>998.0</td>\n",
       "      <td>58.0</td>\n",
       "      <td>4.0</td>\n",
       "      <td>NaN</td>\n",
       "      <td>Maruti</td>\n",
       "      <td>6</td>\n",
       "    </tr>\n",
       "    <tr>\n",
       "      <th>1</th>\n",
       "      <td>Maruti Alto 800 2016-2019 LXI</td>\n",
       "      <td>Coimbatore</td>\n",
       "      <td>54493</td>\n",
       "      <td>Petrol</td>\n",
       "      <td>Manual</td>\n",
       "      <td>Second</td>\n",
       "      <td>24</td>\n",
       "      <td>796.0</td>\n",
       "      <td>47.0</td>\n",
       "      <td>5.0</td>\n",
       "      <td>NaN</td>\n",
       "      <td>Maruti</td>\n",
       "      <td>7</td>\n",
       "    </tr>\n",
       "    <tr>\n",
       "      <th>2</th>\n",
       "      <td>Toyota Innova Crysta Touring Sport 2.4 MT</td>\n",
       "      <td>Mumbai</td>\n",
       "      <td>34000</td>\n",
       "      <td>Diesel</td>\n",
       "      <td>Manual</td>\n",
       "      <td>First</td>\n",
       "      <td>13</td>\n",
       "      <td>2393.0</td>\n",
       "      <td>147.0</td>\n",
       "      <td>7.0</td>\n",
       "      <td>25.27 Lakh</td>\n",
       "      <td>Toyota</td>\n",
       "      <td>3</td>\n",
       "    </tr>\n",
       "    <tr>\n",
       "      <th>3</th>\n",
       "      <td>Toyota Etios Liva GD</td>\n",
       "      <td>Hyderabad</td>\n",
       "      <td>139000</td>\n",
       "      <td>Diesel</td>\n",
       "      <td>Manual</td>\n",
       "      <td>First</td>\n",
       "      <td>23</td>\n",
       "      <td>1364.0</td>\n",
       "      <td>108.0</td>\n",
       "      <td>5.0</td>\n",
       "      <td>NaN</td>\n",
       "      <td>Toyota</td>\n",
       "      <td>8</td>\n",
       "    </tr>\n",
       "    <tr>\n",
       "      <th>4</th>\n",
       "      <td>Hyundai i20 Magna</td>\n",
       "      <td>Mumbai</td>\n",
       "      <td>29000</td>\n",
       "      <td>Petrol</td>\n",
       "      <td>Manual</td>\n",
       "      <td>First</td>\n",
       "      <td>18</td>\n",
       "      <td>1197.0</td>\n",
       "      <td>82.0</td>\n",
       "      <td>5.0</td>\n",
       "      <td>NaN</td>\n",
       "      <td>Hyundai</td>\n",
       "      <td>6</td>\n",
       "    </tr>\n",
       "  </tbody>\n",
       "</table>\n",
       "</div>"
      ],
      "text/plain": [
       "                                        Name    Location  Kilometers_Driven  \\\n",
       "0                    Maruti Alto K10 LXI CNG       Delhi              40929   \n",
       "1              Maruti Alto 800 2016-2019 LXI  Coimbatore              54493   \n",
       "2  Toyota Innova Crysta Touring Sport 2.4 MT      Mumbai              34000   \n",
       "3                       Toyota Etios Liva GD   Hyderabad             139000   \n",
       "4                          Hyundai i20 Magna      Mumbai              29000   \n",
       "\n",
       "  Fuel_Type Transmission Owner_Type  Mileage  Engine  Power  Seats  \\\n",
       "0       CNG       Manual      First       32   998.0   58.0    4.0   \n",
       "1    Petrol       Manual     Second       24   796.0   47.0    5.0   \n",
       "2    Diesel       Manual      First       13  2393.0  147.0    7.0   \n",
       "3    Diesel       Manual      First       23  1364.0  108.0    5.0   \n",
       "4    Petrol       Manual      First       18  1197.0   82.0    5.0   \n",
       "\n",
       "    New_Price    Brand  Years_old  \n",
       "0         NaN   Maruti          6  \n",
       "1         NaN   Maruti          7  \n",
       "2  25.27 Lakh   Toyota          3  \n",
       "3         NaN   Toyota          8  \n",
       "4         NaN  Hyundai          6  "
      ]
     },
     "execution_count": 217,
     "metadata": {},
     "output_type": "execute_result"
    }
   ],
   "source": [
    "df_train.head()\n",
    "df_test.head()"
   ]
  },
  {
   "cell_type": "code",
   "execution_count": 218,
   "metadata": {},
   "outputs": [
    {
     "data": {
      "text/html": [
       "<div>\n",
       "<style scoped>\n",
       "    .dataframe tbody tr th:only-of-type {\n",
       "        vertical-align: middle;\n",
       "    }\n",
       "\n",
       "    .dataframe tbody tr th {\n",
       "        vertical-align: top;\n",
       "    }\n",
       "\n",
       "    .dataframe thead th {\n",
       "        text-align: right;\n",
       "    }\n",
       "</style>\n",
       "<table border=\"1\" class=\"dataframe\">\n",
       "  <thead>\n",
       "    <tr style=\"text-align: right;\">\n",
       "      <th></th>\n",
       "      <th>Kilometers_Driven</th>\n",
       "      <th>Mileage</th>\n",
       "      <th>Engine</th>\n",
       "      <th>Power</th>\n",
       "      <th>Seats</th>\n",
       "      <th>Price</th>\n",
       "      <th>Years_old</th>\n",
       "    </tr>\n",
       "  </thead>\n",
       "  <tbody>\n",
       "    <tr>\n",
       "      <th>count</th>\n",
       "      <td>6.019000e+03</td>\n",
       "      <td>6019.000000</td>\n",
       "      <td>6019.000000</td>\n",
       "      <td>6019.000000</td>\n",
       "      <td>6019.0</td>\n",
       "      <td>6019.000000</td>\n",
       "      <td>6019.000000</td>\n",
       "    </tr>\n",
       "    <tr>\n",
       "      <th>mean</th>\n",
       "      <td>5.873838e+04</td>\n",
       "      <td>17.911584</td>\n",
       "      <td>1619.276458</td>\n",
       "      <td>112.438777</td>\n",
       "      <td>5.0</td>\n",
       "      <td>9.479468</td>\n",
       "      <td>6.641801</td>\n",
       "    </tr>\n",
       "    <tr>\n",
       "      <th>std</th>\n",
       "      <td>9.126884e+04</td>\n",
       "      <td>4.169932</td>\n",
       "      <td>600.245908</td>\n",
       "      <td>53.402757</td>\n",
       "      <td>0.0</td>\n",
       "      <td>11.187917</td>\n",
       "      <td>3.269742</td>\n",
       "    </tr>\n",
       "    <tr>\n",
       "      <th>min</th>\n",
       "      <td>1.710000e+02</td>\n",
       "      <td>6.000000</td>\n",
       "      <td>72.000000</td>\n",
       "      <td>34.000000</td>\n",
       "      <td>5.0</td>\n",
       "      <td>0.440000</td>\n",
       "      <td>1.000000</td>\n",
       "    </tr>\n",
       "    <tr>\n",
       "      <th>25%</th>\n",
       "      <td>3.400000e+04</td>\n",
       "      <td>15.000000</td>\n",
       "      <td>1198.000000</td>\n",
       "      <td>78.000000</td>\n",
       "      <td>5.0</td>\n",
       "      <td>3.500000</td>\n",
       "      <td>4.000000</td>\n",
       "    </tr>\n",
       "    <tr>\n",
       "      <th>50%</th>\n",
       "      <td>5.300000e+04</td>\n",
       "      <td>18.000000</td>\n",
       "      <td>1493.000000</td>\n",
       "      <td>94.000000</td>\n",
       "      <td>5.0</td>\n",
       "      <td>5.640000</td>\n",
       "      <td>6.000000</td>\n",
       "    </tr>\n",
       "    <tr>\n",
       "      <th>75%</th>\n",
       "      <td>7.300000e+04</td>\n",
       "      <td>21.000000</td>\n",
       "      <td>1969.000000</td>\n",
       "      <td>138.000000</td>\n",
       "      <td>5.0</td>\n",
       "      <td>9.950000</td>\n",
       "      <td>9.000000</td>\n",
       "    </tr>\n",
       "    <tr>\n",
       "      <th>max</th>\n",
       "      <td>6.500000e+06</td>\n",
       "      <td>33.000000</td>\n",
       "      <td>5998.000000</td>\n",
       "      <td>560.000000</td>\n",
       "      <td>5.0</td>\n",
       "      <td>160.000000</td>\n",
       "      <td>22.000000</td>\n",
       "    </tr>\n",
       "  </tbody>\n",
       "</table>\n",
       "</div>"
      ],
      "text/plain": [
       "       Kilometers_Driven      Mileage       Engine        Power   Seats  \\\n",
       "count       6.019000e+03  6019.000000  6019.000000  6019.000000  6019.0   \n",
       "mean        5.873838e+04    17.911584  1619.276458   112.438777     5.0   \n",
       "std         9.126884e+04     4.169932   600.245908    53.402757     0.0   \n",
       "min         1.710000e+02     6.000000    72.000000    34.000000     5.0   \n",
       "25%         3.400000e+04    15.000000  1198.000000    78.000000     5.0   \n",
       "50%         5.300000e+04    18.000000  1493.000000    94.000000     5.0   \n",
       "75%         7.300000e+04    21.000000  1969.000000   138.000000     5.0   \n",
       "max         6.500000e+06    33.000000  5998.000000   560.000000     5.0   \n",
       "\n",
       "             Price    Years_old  \n",
       "count  6019.000000  6019.000000  \n",
       "mean      9.479468     6.641801  \n",
       "std      11.187917     3.269742  \n",
       "min       0.440000     1.000000  \n",
       "25%       3.500000     4.000000  \n",
       "50%       5.640000     6.000000  \n",
       "75%       9.950000     9.000000  \n",
       "max     160.000000    22.000000  "
      ]
     },
     "execution_count": 218,
     "metadata": {},
     "output_type": "execute_result"
    }
   ],
   "source": [
    "df_train.describe()"
   ]
  },
  {
   "cell_type": "code",
   "execution_count": 219,
   "metadata": {},
   "outputs": [
    {
     "data": {
      "text/html": [
       "<div>\n",
       "<style scoped>\n",
       "    .dataframe tbody tr th:only-of-type {\n",
       "        vertical-align: middle;\n",
       "    }\n",
       "\n",
       "    .dataframe tbody tr th {\n",
       "        vertical-align: top;\n",
       "    }\n",
       "\n",
       "    .dataframe thead th {\n",
       "        text-align: right;\n",
       "    }\n",
       "</style>\n",
       "<table border=\"1\" class=\"dataframe\">\n",
       "  <thead>\n",
       "    <tr style=\"text-align: right;\">\n",
       "      <th></th>\n",
       "      <th>Kilometers_Driven</th>\n",
       "      <th>Mileage</th>\n",
       "      <th>Engine</th>\n",
       "      <th>Power</th>\n",
       "      <th>Seats</th>\n",
       "      <th>Years_old</th>\n",
       "    </tr>\n",
       "  </thead>\n",
       "  <tbody>\n",
       "    <tr>\n",
       "      <th>count</th>\n",
       "      <td>1234.000000</td>\n",
       "      <td>1234.000000</td>\n",
       "      <td>1234.000000</td>\n",
       "      <td>1234.000000</td>\n",
       "      <td>1234.000000</td>\n",
       "      <td>1234.000000</td>\n",
       "    </tr>\n",
       "    <tr>\n",
       "      <th>mean</th>\n",
       "      <td>58507.288493</td>\n",
       "      <td>17.938412</td>\n",
       "      <td>1591.675851</td>\n",
       "      <td>109.678282</td>\n",
       "      <td>5.282010</td>\n",
       "      <td>6.599676</td>\n",
       "    </tr>\n",
       "    <tr>\n",
       "      <th>std</th>\n",
       "      <td>35598.702098</td>\n",
       "      <td>4.073864</td>\n",
       "      <td>562.728379</td>\n",
       "      <td>50.994086</td>\n",
       "      <td>0.822366</td>\n",
       "      <td>3.179700</td>\n",
       "    </tr>\n",
       "    <tr>\n",
       "      <th>min</th>\n",
       "      <td>1000.000000</td>\n",
       "      <td>7.000000</td>\n",
       "      <td>624.000000</td>\n",
       "      <td>34.000000</td>\n",
       "      <td>2.000000</td>\n",
       "      <td>1.000000</td>\n",
       "    </tr>\n",
       "    <tr>\n",
       "      <th>25%</th>\n",
       "      <td>34000.000000</td>\n",
       "      <td>15.000000</td>\n",
       "      <td>1198.000000</td>\n",
       "      <td>76.000000</td>\n",
       "      <td>5.000000</td>\n",
       "      <td>4.000000</td>\n",
       "    </tr>\n",
       "    <tr>\n",
       "      <th>50%</th>\n",
       "      <td>54572.500000</td>\n",
       "      <td>18.000000</td>\n",
       "      <td>1461.000000</td>\n",
       "      <td>93.000000</td>\n",
       "      <td>5.000000</td>\n",
       "      <td>6.000000</td>\n",
       "    </tr>\n",
       "    <tr>\n",
       "      <th>75%</th>\n",
       "      <td>75000.000000</td>\n",
       "      <td>21.000000</td>\n",
       "      <td>1968.000000</td>\n",
       "      <td>126.000000</td>\n",
       "      <td>5.000000</td>\n",
       "      <td>9.000000</td>\n",
       "    </tr>\n",
       "    <tr>\n",
       "      <th>max</th>\n",
       "      <td>350000.000000</td>\n",
       "      <td>32.000000</td>\n",
       "      <td>5998.000000</td>\n",
       "      <td>616.000000</td>\n",
       "      <td>10.000000</td>\n",
       "      <td>24.000000</td>\n",
       "    </tr>\n",
       "  </tbody>\n",
       "</table>\n",
       "</div>"
      ],
      "text/plain": [
       "       Kilometers_Driven      Mileage       Engine        Power        Seats  \\\n",
       "count        1234.000000  1234.000000  1234.000000  1234.000000  1234.000000   \n",
       "mean        58507.288493    17.938412  1591.675851   109.678282     5.282010   \n",
       "std         35598.702098     4.073864   562.728379    50.994086     0.822366   \n",
       "min          1000.000000     7.000000   624.000000    34.000000     2.000000   \n",
       "25%         34000.000000    15.000000  1198.000000    76.000000     5.000000   \n",
       "50%         54572.500000    18.000000  1461.000000    93.000000     5.000000   \n",
       "75%         75000.000000    21.000000  1968.000000   126.000000     5.000000   \n",
       "max        350000.000000    32.000000  5998.000000   616.000000    10.000000   \n",
       "\n",
       "         Years_old  \n",
       "count  1234.000000  \n",
       "mean      6.599676  \n",
       "std       3.179700  \n",
       "min       1.000000  \n",
       "25%       4.000000  \n",
       "50%       6.000000  \n",
       "75%       9.000000  \n",
       "max      24.000000  "
      ]
     },
     "execution_count": 219,
     "metadata": {},
     "output_type": "execute_result"
    }
   ],
   "source": [
    "df_test.describe()"
   ]
  },
  {
   "cell_type": "code",
   "execution_count": 220,
   "metadata": {},
   "outputs": [],
   "source": [
    "fuel_type=pd.get_dummies(df_train['Fuel_Type'],drop_first=True)\n",
    "owner_type=pd.get_dummies(df_train['Owner_Type'],drop_first=True)\n",
    "transmission_type=pd.get_dummies(df_train['Transmission'],drop_first=True)\n",
    "brand_type=pd.get_dummies(df_train['Brand'],drop_first=True)"
   ]
  },
  {
   "cell_type": "code",
   "execution_count": 221,
   "metadata": {},
   "outputs": [],
   "source": [
    "df_train=pd.concat([df_train,fuel_type,owner_type,transmission_type,\n",
    "                     brand_type\n",
    "                   ],axis=1)\n",
    "df_train = df_train.drop(['Fuel_Type','Owner_Type','Transmission','Brand','Name'],axis=1)"
   ]
  },
  {
   "cell_type": "code",
   "execution_count": 222,
   "metadata": {},
   "outputs": [],
   "source": [
    "fuel_type=pd.get_dummies(df_test['Fuel_Type'],drop_first=True)\n",
    "owner_type=pd.get_dummies(df_test['Owner_Type'],drop_first=True)\n",
    "transmission_type=pd.get_dummies(df_test['Transmission'],drop_first=True)\n",
    "brand_type=pd.get_dummies(df_test['Brand'],drop_first=True)"
   ]
  },
  {
   "cell_type": "code",
   "execution_count": 223,
   "metadata": {},
   "outputs": [],
   "source": [
    "df_test = pd.concat([df_test,fuel_type,owner_type,transmission_type,\n",
    "                      brand_type\n",
    "                    ],axis=1)\n",
    "df_test = df_test.drop(['Fuel_Type','Owner_Type','Transmission','Brand',\"Name\"],axis=1)"
   ]
  },
  {
   "cell_type": "code",
   "execution_count": 226,
   "metadata": {},
   "outputs": [
    {
     "data": {
      "text/html": [
       "<div>\n",
       "<style scoped>\n",
       "    .dataframe tbody tr th:only-of-type {\n",
       "        vertical-align: middle;\n",
       "    }\n",
       "\n",
       "    .dataframe tbody tr th {\n",
       "        vertical-align: top;\n",
       "    }\n",
       "\n",
       "    .dataframe thead th {\n",
       "        text-align: right;\n",
       "    }\n",
       "</style>\n",
       "<table border=\"1\" class=\"dataframe\">\n",
       "  <thead>\n",
       "    <tr style=\"text-align: right;\">\n",
       "      <th></th>\n",
       "      <th>Location</th>\n",
       "      <th>Kilometers_Driven</th>\n",
       "      <th>Mileage</th>\n",
       "      <th>Engine</th>\n",
       "      <th>Power</th>\n",
       "      <th>Seats</th>\n",
       "      <th>New_Price</th>\n",
       "      <th>Price</th>\n",
       "      <th>Years_old</th>\n",
       "      <th>Diesel</th>\n",
       "      <th>...</th>\n",
       "      <th>Mitsubishi</th>\n",
       "      <th>Nissan</th>\n",
       "      <th>Porsche</th>\n",
       "      <th>Renault</th>\n",
       "      <th>Skoda</th>\n",
       "      <th>Smart</th>\n",
       "      <th>Tata</th>\n",
       "      <th>Toyota</th>\n",
       "      <th>Volkswagen</th>\n",
       "      <th>Volvo</th>\n",
       "    </tr>\n",
       "  </thead>\n",
       "  <tbody>\n",
       "    <tr>\n",
       "      <th>0</th>\n",
       "      <td>Mumbai</td>\n",
       "      <td>72000</td>\n",
       "      <td>26.0</td>\n",
       "      <td>998.0</td>\n",
       "      <td>58.0</td>\n",
       "      <td>5</td>\n",
       "      <td>NaN</td>\n",
       "      <td>1.75</td>\n",
       "      <td>10</td>\n",
       "      <td>0</td>\n",
       "      <td>...</td>\n",
       "      <td>0</td>\n",
       "      <td>0</td>\n",
       "      <td>0</td>\n",
       "      <td>0</td>\n",
       "      <td>0</td>\n",
       "      <td>0</td>\n",
       "      <td>0</td>\n",
       "      <td>0</td>\n",
       "      <td>0</td>\n",
       "      <td>0</td>\n",
       "    </tr>\n",
       "    <tr>\n",
       "      <th>1</th>\n",
       "      <td>Pune</td>\n",
       "      <td>41000</td>\n",
       "      <td>19.0</td>\n",
       "      <td>1582.0</td>\n",
       "      <td>126.0</td>\n",
       "      <td>5</td>\n",
       "      <td>NaN</td>\n",
       "      <td>12.50</td>\n",
       "      <td>5</td>\n",
       "      <td>1</td>\n",
       "      <td>...</td>\n",
       "      <td>0</td>\n",
       "      <td>0</td>\n",
       "      <td>0</td>\n",
       "      <td>0</td>\n",
       "      <td>0</td>\n",
       "      <td>0</td>\n",
       "      <td>0</td>\n",
       "      <td>0</td>\n",
       "      <td>0</td>\n",
       "      <td>0</td>\n",
       "    </tr>\n",
       "    <tr>\n",
       "      <th>2</th>\n",
       "      <td>Chennai</td>\n",
       "      <td>46000</td>\n",
       "      <td>18.0</td>\n",
       "      <td>1199.0</td>\n",
       "      <td>88.0</td>\n",
       "      <td>5</td>\n",
       "      <td>8.61 Lakh</td>\n",
       "      <td>4.50</td>\n",
       "      <td>9</td>\n",
       "      <td>0</td>\n",
       "      <td>...</td>\n",
       "      <td>0</td>\n",
       "      <td>0</td>\n",
       "      <td>0</td>\n",
       "      <td>0</td>\n",
       "      <td>0</td>\n",
       "      <td>0</td>\n",
       "      <td>0</td>\n",
       "      <td>0</td>\n",
       "      <td>0</td>\n",
       "      <td>0</td>\n",
       "    </tr>\n",
       "    <tr>\n",
       "      <th>3</th>\n",
       "      <td>Chennai</td>\n",
       "      <td>87000</td>\n",
       "      <td>20.0</td>\n",
       "      <td>1248.0</td>\n",
       "      <td>88.0</td>\n",
       "      <td>5</td>\n",
       "      <td>NaN</td>\n",
       "      <td>6.00</td>\n",
       "      <td>8</td>\n",
       "      <td>1</td>\n",
       "      <td>...</td>\n",
       "      <td>0</td>\n",
       "      <td>0</td>\n",
       "      <td>0</td>\n",
       "      <td>0</td>\n",
       "      <td>0</td>\n",
       "      <td>0</td>\n",
       "      <td>0</td>\n",
       "      <td>0</td>\n",
       "      <td>0</td>\n",
       "      <td>0</td>\n",
       "    </tr>\n",
       "    <tr>\n",
       "      <th>4</th>\n",
       "      <td>Coimbatore</td>\n",
       "      <td>40670</td>\n",
       "      <td>15.0</td>\n",
       "      <td>1968.0</td>\n",
       "      <td>140.0</td>\n",
       "      <td>5</td>\n",
       "      <td>NaN</td>\n",
       "      <td>17.74</td>\n",
       "      <td>7</td>\n",
       "      <td>1</td>\n",
       "      <td>...</td>\n",
       "      <td>0</td>\n",
       "      <td>0</td>\n",
       "      <td>0</td>\n",
       "      <td>0</td>\n",
       "      <td>0</td>\n",
       "      <td>0</td>\n",
       "      <td>0</td>\n",
       "      <td>0</td>\n",
       "      <td>0</td>\n",
       "      <td>0</td>\n",
       "    </tr>\n",
       "  </tbody>\n",
       "</table>\n",
       "<p>5 rows × 46 columns</p>\n",
       "</div>"
      ],
      "text/plain": [
       "     Location  Kilometers_Driven  Mileage  Engine  Power  Seats  New_Price  \\\n",
       "0      Mumbai              72000     26.0   998.0   58.0      5        NaN   \n",
       "1        Pune              41000     19.0  1582.0  126.0      5        NaN   \n",
       "2     Chennai              46000     18.0  1199.0   88.0      5  8.61 Lakh   \n",
       "3     Chennai              87000     20.0  1248.0   88.0      5        NaN   \n",
       "4  Coimbatore              40670     15.0  1968.0  140.0      5        NaN   \n",
       "\n",
       "   Price  Years_old  Diesel  ...  Mitsubishi  Nissan  Porsche  Renault  Skoda  \\\n",
       "0   1.75         10       0  ...           0       0        0        0      0   \n",
       "1  12.50          5       1  ...           0       0        0        0      0   \n",
       "2   4.50          9       0  ...           0       0        0        0      0   \n",
       "3   6.00          8       1  ...           0       0        0        0      0   \n",
       "4  17.74          7       1  ...           0       0        0        0      0   \n",
       "\n",
       "   Smart  Tata  Toyota  Volkswagen  Volvo  \n",
       "0      0     0       0           0      0  \n",
       "1      0     0       0           0      0  \n",
       "2      0     0       0           0      0  \n",
       "3      0     0       0           0      0  \n",
       "4      0     0       0           0      0  \n",
       "\n",
       "[5 rows x 46 columns]"
      ]
     },
     "execution_count": 226,
     "metadata": {},
     "output_type": "execute_result"
    }
   ],
   "source": [
    "df_train.head()"
   ]
  },
  {
   "cell_type": "code",
   "execution_count": 227,
   "metadata": {},
   "outputs": [
    {
     "data": {
      "text/html": [
       "<div>\n",
       "<style scoped>\n",
       "    .dataframe tbody tr th:only-of-type {\n",
       "        vertical-align: middle;\n",
       "    }\n",
       "\n",
       "    .dataframe tbody tr th {\n",
       "        vertical-align: top;\n",
       "    }\n",
       "\n",
       "    .dataframe thead th {\n",
       "        text-align: right;\n",
       "    }\n",
       "</style>\n",
       "<table border=\"1\" class=\"dataframe\">\n",
       "  <thead>\n",
       "    <tr style=\"text-align: right;\">\n",
       "      <th></th>\n",
       "      <th>Location</th>\n",
       "      <th>Kilometers_Driven</th>\n",
       "      <th>Mileage</th>\n",
       "      <th>Engine</th>\n",
       "      <th>Power</th>\n",
       "      <th>Seats</th>\n",
       "      <th>New_Price</th>\n",
       "      <th>Years_old</th>\n",
       "      <th>Diesel</th>\n",
       "      <th>LPG</th>\n",
       "      <th>...</th>\n",
       "      <th>Mitsubishi</th>\n",
       "      <th>Nissan</th>\n",
       "      <th>OpelCorsa</th>\n",
       "      <th>Porsche</th>\n",
       "      <th>Renault</th>\n",
       "      <th>Skoda</th>\n",
       "      <th>Tata</th>\n",
       "      <th>Toyota</th>\n",
       "      <th>Volkswagen</th>\n",
       "      <th>Volvo</th>\n",
       "    </tr>\n",
       "  </thead>\n",
       "  <tbody>\n",
       "    <tr>\n",
       "      <th>0</th>\n",
       "      <td>Delhi</td>\n",
       "      <td>40929</td>\n",
       "      <td>32</td>\n",
       "      <td>998.0</td>\n",
       "      <td>58.0</td>\n",
       "      <td>4.0</td>\n",
       "      <td>NaN</td>\n",
       "      <td>6</td>\n",
       "      <td>0</td>\n",
       "      <td>0</td>\n",
       "      <td>...</td>\n",
       "      <td>0</td>\n",
       "      <td>0</td>\n",
       "      <td>0</td>\n",
       "      <td>0</td>\n",
       "      <td>0</td>\n",
       "      <td>0</td>\n",
       "      <td>0</td>\n",
       "      <td>0</td>\n",
       "      <td>0</td>\n",
       "      <td>0</td>\n",
       "    </tr>\n",
       "    <tr>\n",
       "      <th>1</th>\n",
       "      <td>Coimbatore</td>\n",
       "      <td>54493</td>\n",
       "      <td>24</td>\n",
       "      <td>796.0</td>\n",
       "      <td>47.0</td>\n",
       "      <td>5.0</td>\n",
       "      <td>NaN</td>\n",
       "      <td>7</td>\n",
       "      <td>0</td>\n",
       "      <td>0</td>\n",
       "      <td>...</td>\n",
       "      <td>0</td>\n",
       "      <td>0</td>\n",
       "      <td>0</td>\n",
       "      <td>0</td>\n",
       "      <td>0</td>\n",
       "      <td>0</td>\n",
       "      <td>0</td>\n",
       "      <td>0</td>\n",
       "      <td>0</td>\n",
       "      <td>0</td>\n",
       "    </tr>\n",
       "    <tr>\n",
       "      <th>2</th>\n",
       "      <td>Mumbai</td>\n",
       "      <td>34000</td>\n",
       "      <td>13</td>\n",
       "      <td>2393.0</td>\n",
       "      <td>147.0</td>\n",
       "      <td>7.0</td>\n",
       "      <td>25.27 Lakh</td>\n",
       "      <td>3</td>\n",
       "      <td>1</td>\n",
       "      <td>0</td>\n",
       "      <td>...</td>\n",
       "      <td>0</td>\n",
       "      <td>0</td>\n",
       "      <td>0</td>\n",
       "      <td>0</td>\n",
       "      <td>0</td>\n",
       "      <td>0</td>\n",
       "      <td>0</td>\n",
       "      <td>1</td>\n",
       "      <td>0</td>\n",
       "      <td>0</td>\n",
       "    </tr>\n",
       "    <tr>\n",
       "      <th>3</th>\n",
       "      <td>Hyderabad</td>\n",
       "      <td>139000</td>\n",
       "      <td>23</td>\n",
       "      <td>1364.0</td>\n",
       "      <td>108.0</td>\n",
       "      <td>5.0</td>\n",
       "      <td>NaN</td>\n",
       "      <td>8</td>\n",
       "      <td>1</td>\n",
       "      <td>0</td>\n",
       "      <td>...</td>\n",
       "      <td>0</td>\n",
       "      <td>0</td>\n",
       "      <td>0</td>\n",
       "      <td>0</td>\n",
       "      <td>0</td>\n",
       "      <td>0</td>\n",
       "      <td>0</td>\n",
       "      <td>1</td>\n",
       "      <td>0</td>\n",
       "      <td>0</td>\n",
       "    </tr>\n",
       "    <tr>\n",
       "      <th>4</th>\n",
       "      <td>Mumbai</td>\n",
       "      <td>29000</td>\n",
       "      <td>18</td>\n",
       "      <td>1197.0</td>\n",
       "      <td>82.0</td>\n",
       "      <td>5.0</td>\n",
       "      <td>NaN</td>\n",
       "      <td>6</td>\n",
       "      <td>0</td>\n",
       "      <td>0</td>\n",
       "      <td>...</td>\n",
       "      <td>0</td>\n",
       "      <td>0</td>\n",
       "      <td>0</td>\n",
       "      <td>0</td>\n",
       "      <td>0</td>\n",
       "      <td>0</td>\n",
       "      <td>0</td>\n",
       "      <td>0</td>\n",
       "      <td>0</td>\n",
       "      <td>0</td>\n",
       "    </tr>\n",
       "  </tbody>\n",
       "</table>\n",
       "<p>5 rows × 42 columns</p>\n",
       "</div>"
      ],
      "text/plain": [
       "     Location  Kilometers_Driven  Mileage  Engine  Power  Seats   New_Price  \\\n",
       "0       Delhi              40929       32   998.0   58.0    4.0         NaN   \n",
       "1  Coimbatore              54493       24   796.0   47.0    5.0         NaN   \n",
       "2      Mumbai              34000       13  2393.0  147.0    7.0  25.27 Lakh   \n",
       "3   Hyderabad             139000       23  1364.0  108.0    5.0         NaN   \n",
       "4      Mumbai              29000       18  1197.0   82.0    5.0         NaN   \n",
       "\n",
       "   Years_old  Diesel  LPG  ...  Mitsubishi  Nissan  OpelCorsa  Porsche  \\\n",
       "0          6       0    0  ...           0       0          0        0   \n",
       "1          7       0    0  ...           0       0          0        0   \n",
       "2          3       1    0  ...           0       0          0        0   \n",
       "3          8       1    0  ...           0       0          0        0   \n",
       "4          6       0    0  ...           0       0          0        0   \n",
       "\n",
       "   Renault  Skoda  Tata  Toyota  Volkswagen  Volvo  \n",
       "0        0      0     0       0           0      0  \n",
       "1        0      0     0       0           0      0  \n",
       "2        0      0     0       1           0      0  \n",
       "3        0      0     0       1           0      0  \n",
       "4        0      0     0       0           0      0  \n",
       "\n",
       "[5 rows x 42 columns]"
      ]
     },
     "execution_count": 227,
     "metadata": {},
     "output_type": "execute_result"
    }
   ],
   "source": [
    "df_test.head()"
   ]
  },
  {
   "cell_type": "code",
   "execution_count": 228,
   "metadata": {},
   "outputs": [],
   "source": [
    "y=df_train['Price']"
   ]
  },
  {
   "cell_type": "code",
   "execution_count": 229,
   "metadata": {},
   "outputs": [],
   "source": [
    "y = np.log1p(y.values)"
   ]
  },
  {
   "cell_type": "code",
   "execution_count": 232,
   "metadata": {},
   "outputs": [],
   "source": [
    "X = df_train.drop(['Price',\"New_Price\",\"Location\"],axis=1)"
   ]
  },
  {
   "cell_type": "code",
   "execution_count": 233,
   "metadata": {},
   "outputs": [],
   "source": [
    "X_tr=df_test.drop([\"New_Price\",\"Location\"],axis=1)"
   ]
  },
  {
   "cell_type": "code",
   "execution_count": 234,
   "metadata": {},
   "outputs": [],
   "source": [
    "from sklearn.model_selection import train_test_split\n",
    "from sklearn.linear_model import LinearRegression\n",
    "from sklearn.ensemble import RandomForestRegressor\n",
    "from sklearn.metrics import r2_score,mean_absolute_error\n",
    "from sklearn.preprocessing import StandardScaler\n",
    "\n",
    "import statsmodels.api as sm"
   ]
  },
  {
   "cell_type": "code",
   "execution_count": 235,
   "metadata": {},
   "outputs": [],
   "source": [
    "from sklearn.decomposition import PCA\n",
    "\n",
    "def apply_pca(X,n,add_constant=False):\n",
    "\n",
    "    sc=StandardScaler()\n",
    "    X=sc.fit_transform(X)\n",
    "    pca = PCA(n_components = n)\n",
    "    x_new=pca.fit_transform(X)\n",
    "    \n",
    "    if add_constant is True:\n",
    "        x_new=sm.add_constant(x_new)\n",
    "        \n",
    "    return pca,pd.DataFrame(x_new)\n",
    "        "
   ]
  },
  {
   "cell_type": "code",
   "execution_count": 237,
   "metadata": {},
   "outputs": [
    {
     "data": {
      "text/plain": [
       "43"
      ]
     },
     "execution_count": 237,
     "metadata": {},
     "output_type": "execute_result"
    }
   ],
   "source": [
    "len(X.columns)"
   ]
  },
  {
   "cell_type": "code",
   "execution_count": 238,
   "metadata": {},
   "outputs": [],
   "source": [
    "pca,_=apply_pca(X,len(X.columns))"
   ]
  },
  {
   "cell_type": "code",
   "execution_count": 239,
   "metadata": {},
   "outputs": [
    {
     "name": "stdout",
     "output_type": "stream",
     "text": [
      "Explained Variance :  [9.33447785e-02 5.15311970e-02 3.85548095e-02 3.04891379e-02\n",
      " 2.88005067e-02 2.73725782e-02 2.69866616e-02 2.57938241e-02\n",
      " 2.56469961e-02 2.52929671e-02 2.49691545e-02 2.48170949e-02\n",
      " 2.46792093e-02 2.45293692e-02 2.43882554e-02 2.43284129e-02\n",
      " 2.42543458e-02 2.41770832e-02 2.41289379e-02 2.39970296e-02\n",
      " 2.39628521e-02 2.39532348e-02 2.39232001e-02 2.38944108e-02\n",
      " 2.38516554e-02 2.38452995e-02 2.38281649e-02 2.38248601e-02\n",
      " 2.35909254e-02 2.35045030e-02 2.31656579e-02 2.28805581e-02\n",
      " 2.18668707e-02 2.13576972e-02 2.00776193e-02 1.34643397e-02\n",
      " 8.31771951e-03 6.33113148e-03 4.43616669e-03 1.41931447e-03\n",
      " 4.17099117e-04 4.37019201e-06 1.84090116e-32]\n"
     ]
    }
   ],
   "source": [
    "print(\"Explained Variance : \", pca.explained_variance_ratio_)"
   ]
  },
  {
   "cell_type": "code",
   "execution_count": 242,
   "metadata": {},
   "outputs": [
    {
     "data": {
      "text/plain": [
       "([<matplotlib.axis.XTick at 0x19a14ece320>,\n",
       "  <matplotlib.axis.XTick at 0x19a16e90048>,\n",
       "  <matplotlib.axis.XTick at 0x19a16e4c668>,\n",
       "  <matplotlib.axis.XTick at 0x19a16e84780>,\n",
       "  <matplotlib.axis.XTick at 0x19a16e88240>,\n",
       "  <matplotlib.axis.XTick at 0x19a16e88b00>,\n",
       "  <matplotlib.axis.XTick at 0x19a16e8c4e0>,\n",
       "  <matplotlib.axis.XTick at 0x19a16e8ce80>,\n",
       "  <matplotlib.axis.XTick at 0x19a14df11d0>,\n",
       "  <matplotlib.axis.XTick at 0x19a14df1a90>,\n",
       "  <matplotlib.axis.XTick at 0x19a1878bb00>,\n",
       "  <matplotlib.axis.XTick at 0x19a14df1940>,\n",
       "  <matplotlib.axis.XTick at 0x19a16e882b0>,\n",
       "  <matplotlib.axis.XTick at 0x19a1878bac8>,\n",
       "  <matplotlib.axis.XTick at 0x19a16e7b400>,\n",
       "  <matplotlib.axis.XTick at 0x19a16e7bbe0>,\n",
       "  <matplotlib.axis.XTick at 0x19a16e827f0>,\n",
       "  <matplotlib.axis.XTick at 0x19a16e82cc0>,\n",
       "  <matplotlib.axis.XTick at 0x19a16c641d0>,\n",
       "  <matplotlib.axis.XTick at 0x19a16c646a0>,\n",
       "  <matplotlib.axis.XTick at 0x19a16c64b70>,\n",
       "  <matplotlib.axis.XTick at 0x19a16c64ac8>,\n",
       "  <matplotlib.axis.XTick at 0x19a16e84fd0>,\n",
       "  <matplotlib.axis.XTick at 0x19a16e7b358>,\n",
       "  <matplotlib.axis.XTick at 0x19a16e82630>,\n",
       "  <matplotlib.axis.XTick at 0x19a1878bf28>,\n",
       "  <matplotlib.axis.XTick at 0x19a187dc6a0>,\n",
       "  <matplotlib.axis.XTick at 0x19a14eca320>,\n",
       "  <matplotlib.axis.XTick at 0x19a16e68ac8>,\n",
       "  <matplotlib.axis.XTick at 0x19a14df1d30>,\n",
       "  <matplotlib.axis.XTick at 0x19a16e5a860>,\n",
       "  <matplotlib.axis.XTick at 0x19a13bafe10>,\n",
       "  <matplotlib.axis.XTick at 0x19a16e84b38>,\n",
       "  <matplotlib.axis.XTick at 0x19a16e7fdd8>,\n",
       "  <matplotlib.axis.XTick at 0x19a16e7f3c8>,\n",
       "  <matplotlib.axis.XTick at 0x19a16e7c898>,\n",
       "  <matplotlib.axis.XTick at 0x19a13bd1da0>,\n",
       "  <matplotlib.axis.XTick at 0x19a13bd1320>,\n",
       "  <matplotlib.axis.XTick at 0x19a13bcd7f0>,\n",
       "  <matplotlib.axis.XTick at 0x19a13bcccc0>,\n",
       "  <matplotlib.axis.XTick at 0x19a13bcd6a0>,\n",
       "  <matplotlib.axis.XTick at 0x19a16e7fcf8>,\n",
       "  <matplotlib.axis.XTick at 0x19a11910048>,\n",
       "  <matplotlib.axis.XTick at 0x19a16e94550>,\n",
       "  <matplotlib.axis.XTick at 0x19a13c6d160>,\n",
       "  <matplotlib.axis.XTick at 0x19a13c6db70>,\n",
       "  <matplotlib.axis.XTick at 0x19a13c7e6a0>,\n",
       "  <matplotlib.axis.XTick at 0x19a13c9c1d0>,\n",
       "  <matplotlib.axis.XTick at 0x19a13bcb400>,\n",
       "  <matplotlib.axis.XTick at 0x19a13bcb630>],\n",
       " <a list of 50 Text xticklabel objects>)"
      ]
     },
     "execution_count": 242,
     "metadata": {},
     "output_type": "execute_result"
    },
    {
     "data": {
      "text/plain": [
       "[<matplotlib.lines.Line2D at 0x19a16e84208>]"
      ]
     },
     "execution_count": 242,
     "metadata": {},
     "output_type": "execute_result"
    },
    {
     "data": {
      "text/plain": [
       "Text(0.5, 0, 'n components')"
      ]
     },
     "execution_count": 242,
     "metadata": {},
     "output_type": "execute_result"
    },
    {
     "data": {
      "text/plain": [
       "Text(0, 0.5, 'cumilative variance')"
      ]
     },
     "execution_count": 242,
     "metadata": {},
     "output_type": "execute_result"
    },
    {
     "data": {
      "image/png": "[encoded data removed]",
      "text/plain": [
       "<Figure size 720x720 with 1 Axes>"
      ]
     },
     "metadata": {
      "needs_background": "light"
     },
     "output_type": "display_data"
    }
   ],
   "source": [
    "\n",
    "plt.xticks(np.arange(0,50,1))\n",
    "plt.grid(True)\n",
    "plt.plot(np.cumsum(pca.explained_variance_ratio_))\n",
    "plt.xlabel(\"n components\")\n",
    "plt.ylabel(\"cumilative variance\")"
   ]
  },
  {
   "cell_type": "code",
   "execution_count": 243,
   "metadata": {},
   "outputs": [],
   "source": [
    "no_of_features=39"
   ]
  },
  {
   "cell_type": "code",
   "execution_count": 244,
   "metadata": {},
   "outputs": [],
   "source": [
    "def build_model(regression_fn,target,features,*hyperparameters):\n",
    "    X=features\n",
    "    Y=target\n",
    "    \n",
    "    _,X_new=apply_pca(X,*hyperparameters)\n",
    "    \n",
    "    x_train,x_test,y_train,y_test=train_test_split(X_new,Y,test_size=0.3)\n",
    "    \n",
    "    model = regression_fn(x_train,y_train)\n",
    "    \n",
    "    y_pred = model.predict(x_test)\n",
    "    \n",
    "    return {\n",
    "        \n",
    "        'x_initial':X,\n",
    "        'x_transform':X_new,\n",
    "        'x_train':x_train,\n",
    "        'x_test':x_test,\n",
    "        'y_train':y_train,\n",
    "        'y_test':y_test,\n",
    "        'y_pred':y_pred,\n",
    "        'model':model\n",
    "    }"
   ]
  },
  {
   "cell_type": "code",
   "execution_count": 245,
   "metadata": {},
   "outputs": [],
   "source": [
    "def ols_reg(x_train,y_train):\n",
    "    ols=sm.OLS(y_train,x_train)\n",
    "    model=ols.fit()\n",
    "    return model"
   ]
  },
  {
   "cell_type": "code",
   "execution_count": 246,
   "metadata": {},
   "outputs": [],
   "source": [
    "def linear_reg(x_train,y_train):\n",
    "    model=LinearRegression().fit(x_train,y_train)\n",
    "    return model"
   ]
  },
  {
   "cell_type": "code",
   "execution_count": 247,
   "metadata": {},
   "outputs": [],
   "source": [
    "def random_forest_reg(x_train,y_train):\n",
    "    model=RandomForestRegressor(n_estimators=100, random_state=25)\n",
    "    model.fit(x_train, y_train)\n",
    "    return model"
   ]
  },
  {
   "cell_type": "code",
   "execution_count": 248,
   "metadata": {},
   "outputs": [],
   "source": [
    "model_params={}"
   ]
  },
  {
   "cell_type": "code",
   "execution_count": 249,
   "metadata": {},
   "outputs": [],
   "source": [
    "model_params['statsmodel_reg'] = build_model(ols_reg,y,\n",
    "                                            X,no_of_features,True)"
   ]
  },
  {
   "cell_type": "code",
   "execution_count": 250,
   "metadata": {},
   "outputs": [],
   "source": [
    "model         =model_params['statsmodel_reg']['model']\n",
    "x_initial     =model_params['statsmodel_reg']['x_initial']\n",
    "x_transform   =model_params['statsmodel_reg']['x_transform']\n",
    "x_train       =model_params['statsmodel_reg']['x_train']\n",
    "x_test        =model_params['statsmodel_reg']['x_test']\n",
    "y_train       =model_params['statsmodel_reg']['y_train']\n",
    "y_test        =model_params['statsmodel_reg']['y_test']\n",
    "y_pred        =model_params['statsmodel_reg']['y_pred']\n"
   ]
  },
  {
   "cell_type": "code",
   "execution_count": 251,
   "metadata": {},
   "outputs": [
    {
     "name": "stdout",
     "output_type": "stream",
     "text": [
      "Rsquared:  0.9148743397367622\n",
      "Adj Rsquared:  0.9140787728184142\n",
      "Mean Absolute Error:  0.22254830507684514\n"
     ]
    }
   ],
   "source": [
    "print('Rsquared: ',model.rsquared)\n",
    "print('Adj Rsquared: ',model.rsquared_adj)\n",
    "print('Mean Absolute Error: ', mean_absolute_error(y_test, y_pred)) \n",
    "# print('Accuracy: ',model.score(x_test,y_test))"
   ]
  },
  {
   "cell_type": "code",
   "execution_count": 252,
   "metadata": {},
   "outputs": [],
   "source": [
    "model_params['sklearn_reg'] = build_model(linear_reg,y,\n",
    "                                            X,no_of_features)"
   ]
  },
  {
   "cell_type": "code",
   "execution_count": 253,
   "metadata": {},
   "outputs": [],
   "source": [
    "model         =model_params['sklearn_reg']['model']\n",
    "x_initial     =model_params['sklearn_reg']['x_initial']\n",
    "x_transform   =model_params['sklearn_reg']['x_transform']\n",
    "x_train       =model_params['sklearn_reg']['x_train']\n",
    "x_test        =model_params['sklearn_reg']['x_test']\n",
    "y_train       =model_params['sklearn_reg']['y_train']\n",
    "y_test        =model_params['sklearn_reg']['y_test']\n",
    "y_pred        =model_params['sklearn_reg']['y_pred']"
   ]
  },
  {
   "cell_type": "code",
   "execution_count": 254,
   "metadata": {},
   "outputs": [
    {
     "name": "stdout",
     "output_type": "stream",
     "text": [
      "Training Score:  0.9184965921261472\n",
      "Adj Rsquared:  -105.04759195703593\n",
      "Accuracy:  -105.04759195703593\n",
      "Mean Absolute Error:  0.3531011350827529\n"
     ]
    }
   ],
   "source": [
    "print('Training Score: ',model.score(x_train,y_train))\n",
    "print('Adj Rsquared: ',r2_score(y_test,y_pred))\n",
    "print('Accuracy: ',model.score(x_test,y_test))\n",
    "print('Mean Absolute Error: ', mean_absolute_error(y_test, y_pred)) "
   ]
  },
  {
   "cell_type": "code",
   "execution_count": 255,
   "metadata": {},
   "outputs": [],
   "source": [
    "model_params['random_forest_reg'] = build_model(random_forest_reg,y,\n",
    "                                            X,no_of_features)"
   ]
  },
  {
   "cell_type": "code",
   "execution_count": 256,
   "metadata": {},
   "outputs": [],
   "source": [
    "model         =model_params['random_forest_reg']['model']\n",
    "x_initial     =model_params['random_forest_reg']['x_initial']\n",
    "x_transform   =model_params['random_forest_reg']['x_transform']\n",
    "x_train       =model_params['random_forest_reg']['x_train']\n",
    "x_test        =model_params['random_forest_reg']['x_test']\n",
    "y_train       =model_params['random_forest_reg']['y_train']\n",
    "y_test        =model_params['random_forest_reg']['y_test']\n",
    "y_pred        =model_params['random_forest_reg']['y_pred']"
   ]
  },
  {
   "cell_type": "code",
   "execution_count": 257,
   "metadata": {},
   "outputs": [
    {
     "name": "stdout",
     "output_type": "stream",
     "text": [
      "Training Score:  0.9889966850441145\n",
      "Adj Rsquared:  0.9302862294849833\n",
      "Accuracy:  0.9302862294849833\n",
      "Mean Absolute Error:  0.14235106496506567\n"
     ]
    }
   ],
   "source": [
    "print('Training Score: ',model.score(x_train,y_train))\n",
    "print('Adj Rsquared: ',r2_score(y_test,y_pred))\n",
    "print('Accuracy: ',model.score(x_test,y_test))\n",
    "print('Mean Absolute Error: ', mean_absolute_error(y_test, y_pred)) "
   ]
  },
  {
   "cell_type": "code",
   "execution_count": 258,
   "metadata": {},
   "outputs": [
    {
     "data": {
      "text/plain": [
       "<Figure size 432x432 with 0 Axes>"
      ]
     },
     "execution_count": 258,
     "metadata": {},
     "output_type": "execute_result"
    },
    {
     "data": {
      "text/plain": [
       "Text(0.5, 1.0, 'Visualizing the Regression using Random Forest Regression algorithm')"
      ]
     },
     "execution_count": 258,
     "metadata": {},
     "output_type": "execute_result"
    },
    {
     "data": {
      "text/plain": [
       "<matplotlib.axes._subplots.AxesSubplot at 0x19a14e8af60>"
      ]
     },
     "execution_count": 258,
     "metadata": {},
     "output_type": "execute_result"
    },
    {
     "data": {
      "text/plain": [
       "Text(0.5, 0, 'Predicted Price')"
      ]
     },
     "execution_count": 258,
     "metadata": {},
     "output_type": "execute_result"
    },
    {
     "data": {
      "text/plain": [
       "Text(0, 0.5, 'Orig Price')"
      ]
     },
     "execution_count": 258,
     "metadata": {},
     "output_type": "execute_result"
    },
    {
     "data": {
      "image/png": "[encoded data removed]",
      "text/plain": [
       "<Figure size 432x432 with 1 Axes>"
      ]
     },
     "metadata": {
      "needs_background": "light"
     },
     "output_type": "display_data"
    }
   ],
   "source": [
    "plt.figure(figsize= (6, 6))\n",
    "plt.title(\"Visualizing the Regression using Random Forest Regression algorithm\")\n",
    "sns.regplot(y_pred, y_test, color = \"teal\")\n",
    "plt.xlabel(\"Predicted Price\")\n",
    "plt.ylabel(\"Orig Price\")\n",
    "plt.show()"
   ]
  },
  {
   "cell_type": "code",
   "execution_count": 259,
   "metadata": {},
   "outputs": [],
   "source": [
    "_,X_tr_new=apply_pca(X_tr,no_of_features)"
   ]
  },
  {
   "cell_type": "code",
   "execution_count": 260,
   "metadata": {},
   "outputs": [],
   "source": [
    "y_final=model.predict(X_tr_new)"
   ]
  },
  {
   "cell_type": "code",
   "execution_count": 261,
   "metadata": {},
   "outputs": [],
   "source": [
    "y_final = np.expm1(y_final)"
   ]
  },
  {
   "cell_type": "code",
   "execution_count": 262,
   "metadata": {},
   "outputs": [
    {
     "data": {
      "text/plain": [
       "<matplotlib.axes._subplots.AxesSubplot at 0x19a11be3e80>"
      ]
     },
     "execution_count": 262,
     "metadata": {},
     "output_type": "execute_result"
    },
    {
     "data": {
      "image/png": "[encoded data removed]",
      "text/plain": [
       "<Figure size 720x720 with 1 Axes>"
      ]
     },
     "metadata": {
      "needs_background": "light"
     },
     "output_type": "display_data"
    }
   ],
   "source": [
    "sns.distplot(y_final)"
   ]
  },
  {
   "cell_type": "code",
   "execution_count": 263,
   "metadata": {},
   "outputs": [],
   "source": [
    "X_final = pd.concat([df_test_orig,pd.Series(y_final,name=\"Price\")],axis=1)"
   ]
  },
  {
   "cell_type": "code",
   "execution_count": 264,
   "metadata": {},
   "outputs": [
    {
     "data": {
      "text/plain": [
       "array([ 4.41051688,  2.45976198, 12.7564562 , ...,  4.77172367,\n",
       "        2.19822655, 13.60700769])"
      ]
     },
     "execution_count": 264,
     "metadata": {},
     "output_type": "execute_result"
    }
   ],
   "source": [
    "y_final"
   ]
  },
  {
   "cell_type": "code",
   "execution_count": 265,
   "metadata": {},
   "outputs": [],
   "source": [
    "X_final.to_csv(\"Result.csv\")"
   ]
  },
  {
   "cell_type": "code",
   "execution_count": 270,
   "metadata": {},
   "outputs": [],
   "source": [
    "pd.DataFrame(y_final,columns=[\"Price\"],index=None).to_csv(\"Fs.csv\",index=False)\n"
   ]
  },
  {
   "cell_type": "code",
   "execution_count": null,
   "metadata": {},
   "outputs": [],
   "source": []
  }
 ],
 "metadata": {
  "kernelspec": {
   "display_name": "Python 3",
   "language": "python",
   "name": "python3"
  },
  "language_info": {
   "codemirror_mode": {
    "name": "ipython",
    "version": 3
   },
   "file_extension": ".py",
   "mimetype": "text/x-python",
   "name": "python",
   "nbconvert_exporter": "python",
   "pygments_lexer": "ipython3",
   "version": "3.7.3"
  }
 },
 "nbformat": 4,
 "nbformat_minor": 4
}
